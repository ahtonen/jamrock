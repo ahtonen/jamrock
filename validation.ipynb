{
 "cells": [
  {
   "cell_type": "markdown",
   "metadata": {},
   "source": [
    "# Data exploration of Grocery Prices in Jamaica\n",
    "\n",
    "Source: https://www.data.gov.jm/dataset/consumer-grocery-prices\n",
    "\n",
    "Timespan about 2012-2017"
   ]
  },
  {
   "cell_type": "markdown",
   "metadata": {},
   "source": [
    "## Setup imports"
   ]
  },
  {
   "cell_type": "code",
   "execution_count": 1,
   "metadata": {
    "tags": []
   },
   "outputs": [],
   "source": [
    "%matplotlib inline\n",
    "\n",
    "import os, sys\n",
    "import shutil\n",
    "import tempfile\n",
    "import glob\n",
    "import re\n",
    "import time\n",
    "import datetime\n",
    "import copy\n",
    "import pickle\n",
    "import hashlib\n",
    "import logging\n",
    "import warnings\n",
    "import random\n",
    "\n",
    "import matplotlib.pyplot as plt\n",
    "import pandas as pd\n",
    "import numpy as np\n",
    "import seaborn as sns\n",
    "\n",
    "sns.set_style(\"whitegrid\")\n",
    "pd.set_option('display.max_rows', 100)"
   ]
  },
  {
   "cell_type": "code",
   "execution_count": 2,
   "metadata": {},
   "outputs": [],
   "source": [
    "# log level\n",
    "logging.basicConfig(\n",
    "    stream=sys.stdout,\n",
    "    format='%(asctime)s %(levelname)s: %(message)s',\n",
    "    level=logging.INFO)\n",
    "\n",
    "logger = logging.getLogger(\"notebook\")\n",
    "logger.setLevel(logging.DEBUG)\n",
    "\n",
    "# disable font not found warnings\n",
    "logging.getLogger('matplotlib.font_manager').disabled = True"
   ]
  },
  {
   "cell_type": "markdown",
   "metadata": {},
   "source": [
    "## Read data"
   ]
  },
  {
   "cell_type": "code",
   "execution_count": 102,
   "metadata": {
    "tags": []
   },
   "outputs": [
    {
     "name": "stdout",
     "output_type": "stream",
     "text": [
      "env: DATA_DIRECTORY=data\n"
     ]
    }
   ],
   "source": [
    "# Use Jupyter magic to retain variable in this notebook\n",
    "%env DATA_DIRECTORY=data\n",
    "\n",
    "data_dir = os.environ.get(\"DATA_DIRECTORY\")\n",
    "#root_dir = tempfile.mkdtemp() if directory is None else directory\n",
    "dataset_regex = \"Grocery_Price_Survey_201?_Q?.csv\"\n",
    "pickle_filename = \"Grocery_data.pkl\""
   ]
  },
  {
   "cell_type": "code",
   "execution_count": 4,
   "metadata": {},
   "outputs": [
    {
     "data": {
      "text/plain": [
       "21"
      ]
     },
     "execution_count": 4,
     "metadata": {},
     "output_type": "execute_result"
    }
   ],
   "source": [
    "from pathlib import Path\n",
    "\n",
    "csv_files = list(Path(data_dir).glob(dataset_regex))\n",
    "len(csv_files)"
   ]
  },
  {
   "cell_type": "code",
   "execution_count": 5,
   "metadata": {},
   "outputs": [],
   "source": [
    "df_list = []\n",
    "\n",
    "for f in csv_files:\n",
    "    df_list.append(pd.read_csv(f, parse_dates=['SurveyDate'],\n",
    "                               dtype={'Outlet_Name': 'str', 'Town': 'str',\n",
    "                                      'Parish': 'str', 'Item':'str', 'Price': np.float64},\n",
    "                               na_values=['N\\\\A']))\n",
    "\n",
    "df = pd.concat(df_list, ignore_index=True, axis=0)"
   ]
  },
  {
   "cell_type": "code",
   "execution_count": 6,
   "metadata": {},
   "outputs": [
    {
     "data": {
      "text/plain": [
       "OutletID                int64\n",
       "SurveyDate     datetime64[ns]\n",
       "Outlet_Name            object\n",
       "Town                   object\n",
       "Parish                 object\n",
       "Item                   object\n",
       "ItemID                  int64\n",
       "Price                 float64\n",
       "dtype: object"
      ]
     },
     "execution_count": 6,
     "metadata": {},
     "output_type": "execute_result"
    }
   ],
   "source": [
    "df.dtypes"
   ]
  },
  {
   "cell_type": "code",
   "execution_count": 7,
   "metadata": {},
   "outputs": [
    {
     "data": {
      "text/plain": [
       "np.int64(97746)"
      ]
     },
     "execution_count": 7,
     "metadata": {},
     "output_type": "execute_result"
    }
   ],
   "source": [
    "df.Price.isnull().sum()"
   ]
  },
  {
   "cell_type": "code",
   "execution_count": 8,
   "metadata": {},
   "outputs": [
    {
     "data": {
      "text/plain": [
       "(606454, 8)"
      ]
     },
     "execution_count": 8,
     "metadata": {},
     "output_type": "execute_result"
    }
   ],
   "source": [
    "df.shape"
   ]
  },
  {
   "cell_type": "code",
   "execution_count": 9,
   "metadata": {},
   "outputs": [
    {
     "data": {
      "text/plain": [
       "(369563, 8)"
      ]
     },
     "execution_count": 9,
     "metadata": {},
     "output_type": "execute_result"
    }
   ],
   "source": [
    "# Drop null prices\n",
    "df = df.dropna()\n",
    "# Drop non positive prices\n",
    "df = df[df.Price > 0.]\n",
    "df.shape"
   ]
  },
  {
   "cell_type": "code",
   "execution_count": 10,
   "metadata": {},
   "outputs": [],
   "source": [
    "def clean_names(column):\n",
    "    \"\"\"\n",
    "    Strip backslashes and leading and trailing spaces\n",
    "    \"\"\"\n",
    "    # dump multiple spaces\n",
    "    temp = column.str.replace(\"\\\\\",\"\")\n",
    "    temp = temp.str.replace(\"  \",\" \")\n",
    "    temp = temp.str.replace(\"   \",\" \")\n",
    "    temp = temp.str.strip(' -')\n",
    "    temp = temp.str.title()\n",
    "    temp = temp.str.replace(\"'S\", \"'s\")\n",
    "    temp = temp.str.replace(\"St.Thomas\", \"St. Thomas\") \n",
    "\n",
    "    return temp"
   ]
  },
  {
   "cell_type": "code",
   "execution_count": 11,
   "metadata": {},
   "outputs": [],
   "source": [
    "for name in df.columns[[2,3,4,5]]:\n",
    "    df[name] = clean_names(df[name])"
   ]
  },
  {
   "cell_type": "code",
   "execution_count": 12,
   "metadata": {},
   "outputs": [
    {
     "data": {
      "text/html": [
       "<div>\n",
       "<style scoped>\n",
       "    .dataframe tbody tr th:only-of-type {\n",
       "        vertical-align: middle;\n",
       "    }\n",
       "\n",
       "    .dataframe tbody tr th {\n",
       "        vertical-align: top;\n",
       "    }\n",
       "\n",
       "    .dataframe thead th {\n",
       "        text-align: right;\n",
       "    }\n",
       "</style>\n",
       "<table border=\"1\" class=\"dataframe\">\n",
       "  <thead>\n",
       "    <tr style=\"text-align: right;\">\n",
       "      <th></th>\n",
       "      <th>OutletID</th>\n",
       "      <th>SurveyDate</th>\n",
       "      <th>Outlet_Name</th>\n",
       "      <th>Town</th>\n",
       "      <th>Parish</th>\n",
       "      <th>Item</th>\n",
       "      <th>ItemID</th>\n",
       "      <th>Price</th>\n",
       "    </tr>\n",
       "  </thead>\n",
       "  <tbody>\n",
       "    <tr>\n",
       "      <th>517899</th>\n",
       "      <td>154</td>\n",
       "      <td>2012-01-05</td>\n",
       "      <td>Super Plus</td>\n",
       "      <td>Four Paths</td>\n",
       "      <td>Clarendon</td>\n",
       "      <td>Sweetened Condensed Milk [Tx] Nestle 395 G</td>\n",
       "      <td>9149452</td>\n",
       "      <td>150.00</td>\n",
       "    </tr>\n",
       "    <tr>\n",
       "      <th>520231</th>\n",
       "      <td>89</td>\n",
       "      <td>2012-01-05</td>\n",
       "      <td>Joong</td>\n",
       "      <td>Portmore</td>\n",
       "      <td>St. Catherine</td>\n",
       "      <td>Powdered  Laundry Detergent [Tx] Ariel 400 G</td>\n",
       "      <td>7843653</td>\n",
       "      <td>163.99</td>\n",
       "    </tr>\n",
       "    <tr>\n",
       "      <th>520232</th>\n",
       "      <td>89</td>\n",
       "      <td>2012-01-05</td>\n",
       "      <td>Joong</td>\n",
       "      <td>Portmore</td>\n",
       "      <td>St. Catherine</td>\n",
       "      <td>Insect Spray [Tx] Baygon 260 Ml</td>\n",
       "      <td>6443742</td>\n",
       "      <td>274.00</td>\n",
       "    </tr>\n",
       "    <tr>\n",
       "      <th>520233</th>\n",
       "      <td>89</td>\n",
       "      <td>2012-01-05</td>\n",
       "      <td>Joong</td>\n",
       "      <td>Portmore</td>\n",
       "      <td>St. Catherine</td>\n",
       "      <td>Whole Chicken (Grade A, Frozen) [Nt] Best Dres...</td>\n",
       "      <td>10243821</td>\n",
       "      <td>368.00</td>\n",
       "    </tr>\n",
       "    <tr>\n",
       "      <th>520234</th>\n",
       "      <td>89</td>\n",
       "      <td>2012-01-05</td>\n",
       "      <td>Joong</td>\n",
       "      <td>Portmore</td>\n",
       "      <td>St. Catherine</td>\n",
       "      <td>Pepper [Tx] Betapac 110 G</td>\n",
       "      <td>7643928</td>\n",
       "      <td>191.00</td>\n",
       "    </tr>\n",
       "    <tr>\n",
       "      <th>...</th>\n",
       "      <td>...</td>\n",
       "      <td>...</td>\n",
       "      <td>...</td>\n",
       "      <td>...</td>\n",
       "      <td>...</td>\n",
       "      <td>...</td>\n",
       "      <td>...</td>\n",
       "      <td>...</td>\n",
       "    </tr>\n",
       "    <tr>\n",
       "      <th>101898</th>\n",
       "      <td>192</td>\n",
       "      <td>2017-03-09</td>\n",
       "      <td>Zhen's Wholesale</td>\n",
       "      <td>Cambridge</td>\n",
       "      <td>St. James</td>\n",
       "      <td>Matches [Tx] Any 1 Pk</td>\n",
       "      <td>7281823</td>\n",
       "      <td>50.00</td>\n",
       "    </tr>\n",
       "    <tr>\n",
       "      <th>101896</th>\n",
       "      <td>192</td>\n",
       "      <td>2017-03-09</td>\n",
       "      <td>Zhen's Wholesale</td>\n",
       "      <td>Cambridge</td>\n",
       "      <td>St. James</td>\n",
       "      <td>Mosquito Destroyer [Tx] Vape 6 Coils</td>\n",
       "      <td>7381961</td>\n",
       "      <td>80.00</td>\n",
       "    </tr>\n",
       "    <tr>\n",
       "      <th>101895</th>\n",
       "      <td>192</td>\n",
       "      <td>2017-03-09</td>\n",
       "      <td>Zhen's Wholesale</td>\n",
       "      <td>Cambridge</td>\n",
       "      <td>St. James</td>\n",
       "      <td>Mosquito Destroyer [Tx] Bug Off 6 Coils</td>\n",
       "      <td>7344661</td>\n",
       "      <td>65.00</td>\n",
       "    </tr>\n",
       "    <tr>\n",
       "      <th>101904</th>\n",
       "      <td>192</td>\n",
       "      <td>2017-03-09</td>\n",
       "      <td>Zhen's Wholesale</td>\n",
       "      <td>Cambridge</td>\n",
       "      <td>St. James</td>\n",
       "      <td>Laundry Soap Bar [Tx] Bomber 140 G</td>\n",
       "      <td>6644181</td>\n",
       "      <td>55.00</td>\n",
       "    </tr>\n",
       "    <tr>\n",
       "      <th>99306</th>\n",
       "      <td>466</td>\n",
       "      <td>2017-03-09</td>\n",
       "      <td>Cheries Supermarket</td>\n",
       "      <td>Lucea</td>\n",
       "      <td>Hanover</td>\n",
       "      <td>Corned Beef (Canned) [Tx] Eve 340 G</td>\n",
       "      <td>4446447</td>\n",
       "      <td>355.00</td>\n",
       "    </tr>\n",
       "  </tbody>\n",
       "</table>\n",
       "<p>369563 rows × 8 columns</p>\n",
       "</div>"
      ],
      "text/plain": [
       "        OutletID SurveyDate          Outlet_Name        Town         Parish  \\\n",
       "517899       154 2012-01-05           Super Plus  Four Paths      Clarendon   \n",
       "520231        89 2012-01-05                Joong    Portmore  St. Catherine   \n",
       "520232        89 2012-01-05                Joong    Portmore  St. Catherine   \n",
       "520233        89 2012-01-05                Joong    Portmore  St. Catherine   \n",
       "520234        89 2012-01-05                Joong    Portmore  St. Catherine   \n",
       "...          ...        ...                  ...         ...            ...   \n",
       "101898       192 2017-03-09     Zhen's Wholesale   Cambridge      St. James   \n",
       "101896       192 2017-03-09     Zhen's Wholesale   Cambridge      St. James   \n",
       "101895       192 2017-03-09     Zhen's Wholesale   Cambridge      St. James   \n",
       "101904       192 2017-03-09     Zhen's Wholesale   Cambridge      St. James   \n",
       "99306        466 2017-03-09  Cheries Supermarket       Lucea        Hanover   \n",
       "\n",
       "                                                     Item    ItemID   Price  \n",
       "517899         Sweetened Condensed Milk [Tx] Nestle 395 G   9149452  150.00  \n",
       "520231       Powdered  Laundry Detergent [Tx] Ariel 400 G   7843653  163.99  \n",
       "520232                    Insect Spray [Tx] Baygon 260 Ml   6443742  274.00  \n",
       "520233  Whole Chicken (Grade A, Frozen) [Nt] Best Dres...  10243821  368.00  \n",
       "520234                          Pepper [Tx] Betapac 110 G   7643928  191.00  \n",
       "...                                                   ...       ...     ...  \n",
       "101898                              Matches [Tx] Any 1 Pk   7281823   50.00  \n",
       "101896               Mosquito Destroyer [Tx] Vape 6 Coils   7381961   80.00  \n",
       "101895            Mosquito Destroyer [Tx] Bug Off 6 Coils   7344661   65.00  \n",
       "101904                 Laundry Soap Bar [Tx] Bomber 140 G   6644181   55.00  \n",
       "99306                 Corned Beef (Canned) [Tx] Eve 340 G   4446447  355.00  \n",
       "\n",
       "[369563 rows x 8 columns]"
      ]
     },
     "execution_count": 12,
     "metadata": {},
     "output_type": "execute_result"
    }
   ],
   "source": [
    "df.sort_values('SurveyDate')"
   ]
  },
  {
   "cell_type": "code",
   "execution_count": 13,
   "metadata": {},
   "outputs": [
    {
     "data": {
      "text/plain": [
       "Index(['OutletID', 'SurveyDate', 'Outlet_Name', 'Town', 'Parish', 'Item',\n",
       "       'ItemID', 'Price'],\n",
       "      dtype='object')"
      ]
     },
     "execution_count": 13,
     "metadata": {},
     "output_type": "execute_result"
    }
   ],
   "source": [
    "df.columns"
   ]
  },
  {
   "cell_type": "code",
   "execution_count": 14,
   "metadata": {},
   "outputs": [
    {
     "name": "stdout",
     "output_type": "stream",
     "text": [
      "OutletID 135\n",
      "Outlet_Name 113\n"
     ]
    }
   ],
   "source": [
    "# OutletID mapping to Outlet_Name\n",
    "for c in df.columns[[0,2]]:\n",
    "    print(c, len(df[c].unique()))"
   ]
  },
  {
   "cell_type": "code",
   "execution_count": 15,
   "metadata": {},
   "outputs": [
    {
     "name": "stdout",
     "output_type": "stream",
     "text": [
      "ItemID 231\n",
      "Item 231\n"
     ]
    }
   ],
   "source": [
    "# ItemID mapping to Item\n",
    "for c in df.columns[[6,5]]:\n",
    "    print(c, len(df[c].unique()))"
   ]
  },
  {
   "cell_type": "markdown",
   "metadata": {},
   "source": [
    "Looks like Item mapping is one-to-one, but Outlet_Name is one-to-many. This is probably due to different location so no action needed."
   ]
  },
  {
   "cell_type": "code",
   "execution_count": 16,
   "metadata": {},
   "outputs": [],
   "source": [
    "supermarkets = sorted(df.Outlet_Name.unique())"
   ]
  },
  {
   "cell_type": "code",
   "execution_count": 17,
   "metadata": {},
   "outputs": [
    {
     "data": {
      "text/plain": [
       "[\"A J's Supermarket\",\n",
       " \"Abc Supermarket - Brown's Town\",\n",
       " 'Ambersley',\n",
       " 'Any Money Supermarket',\n",
       " \"Auntie Maur's Supermarket\",\n",
       " 'Basic Needs Supermarket',\n",
       " 'Bay City Supermarket- Montego Bay',\n",
       " 'Best Buy Mini Mart',\n",
       " 'Best Value Supermarket',\n",
       " 'Best Way Wholesale',\n",
       " 'Better & Better Supermarket- Annotto Bay',\n",
       " 'Brooklyn (Clock Tower Plaza)',\n",
       " 'Brooklyn (Twin Gates Plaza)',\n",
       " \"Brown's Town Supermarket\",\n",
       " 'Bull Head Supermarket',\n",
       " \"Campbell's Supermarket\",\n",
       " 'Cari Home Supermarket',\n",
       " 'Century Supermarket',\n",
       " 'Cheries Supermarket',\n",
       " 'Cherish Supermaket',\n",
       " 'Classic Super Shop',\n",
       " \"Consumers' Meat Plus\",\n",
       " 'D & Y Supermarket',\n",
       " 'Daily Foods Supermarket',\n",
       " \"Dotty's Grocery\",\n",
       " 'Empire Supermarket (Portmore Pines)',\n",
       " 'Empire Supermarket- Cross Roads',\n",
       " 'Empire Supermarket-Liguanea',\n",
       " 'Exquisite Grocery',\n",
       " 'Family Choice',\n",
       " 'Family Pride',\n",
       " 'Fedlin Supermarket',\n",
       " \"Floyd's Supermarket\",\n",
       " 'Food Palace Wholesale',\n",
       " 'Friendship Grocery',\n",
       " \"Gayle's Grocery\",\n",
       " 'General Food Supermarket',\n",
       " \"Graham's\",\n",
       " 'Grove Court Supermarket',\n",
       " 'Heartease Wholesale & Retail',\n",
       " 'Hew Wing Supermarket',\n",
       " \"Hew's Supermarket\",\n",
       " 'Hi Lo (Portmore Pines)',\n",
       " 'Hi-Lo Basix',\n",
       " 'Hi-Lo Supermarket',\n",
       " \"Ho's Supermarket\",\n",
       " 'Hughenden Supermarket',\n",
       " 'Independence City Super Market - Portmore',\n",
       " 'Intown Supersave',\n",
       " 'Intown Supersave - Black River',\n",
       " 'J Rs Bargain World & Food Store',\n",
       " \"Jimmy's Super-Market\",\n",
       " 'Joong',\n",
       " \"Jr's\",\n",
       " \"Kamal's\",\n",
       " \"Kamlyn's\",\n",
       " \"Lee's Food Fair\",\n",
       " \"Lee's Value Plus\",\n",
       " 'Lennox Grocery',\n",
       " \"Leslie's Mini Mart\",\n",
       " 'Linstead Food Fair',\n",
       " 'Liu Rexo',\n",
       " 'Lucky Side Supermarket',\n",
       " \"Marguerite's Supermarket\",\n",
       " 'Meat Plus',\n",
       " 'Meet All Supermarket',\n",
       " 'Mega Mart',\n",
       " 'Michael Ming Supermarket',\n",
       " 'Michi Super Centre',\n",
       " 'Mid-Town Self Serve',\n",
       " 'Mitchie Super Save Grocery - Sandy Bay',\n",
       " 'Moo Penn',\n",
       " 'Naing Supermarket',\n",
       " 'New Stony Hill Supermarket',\n",
       " 'Nez Market Place',\n",
       " 'Northern Supermarket',\n",
       " 'Orion Supermarket & Wholesale',\n",
       " 'Our Corner Grocery',\n",
       " 'Pace Supermarket',\n",
       " \"Palmer's Shop\",\n",
       " 'Parkview Supermarket',\n",
       " 'Parkway Supermarket',\n",
       " \"Peat's Self Serve - Buff Bay\",\n",
       " \"Price Break Meats & Grocery - Brown's Town\",\n",
       " 'Public Supermarket',\n",
       " 'Rainbow Wholesale',\n",
       " 'Salmon Supermarket',\n",
       " \"Sampar's Cash & Carry - Old Harbour\",\n",
       " 'Save-A-Lot Mini Mart',\n",
       " 'Savemore Supercentre',\n",
       " \"Shop 'N' Save\",\n",
       " \"Shopper's Fair\",\n",
       " \"Shopper's Fair (Greater Portmore Shopping Ce\",\n",
       " \"Shopper's Fair (Portmore Mall)\",\n",
       " \"Shopper's Fair, Caledonia Road\",\n",
       " \"Shopper's Fair, Manchester Shopping Centre\",\n",
       " \"Shopper's Pride\",\n",
       " 'Shoppers Fair Supermarket',\n",
       " 'Snc Supermarket',\n",
       " 'Sovereign Supermarket',\n",
       " 'Super Plus',\n",
       " 'Super Plus (Mid Way Mall)',\n",
       " 'Super Plus (Park Crescent)',\n",
       " 'Super Valu',\n",
       " 'T & P Self Serve',\n",
       " 'Tak Supermarket',\n",
       " \"Urvill's Supermarket\",\n",
       " 'Valu Mart - May Pen',\n",
       " 'Value Master',\n",
       " 'Wat Liquor & Wholesale',\n",
       " 'Wat Liquor And Wholesale',\n",
       " 'Xxtra',\n",
       " \"Zhen's Wholesale\"]"
      ]
     },
     "execution_count": 17,
     "metadata": {},
     "output_type": "execute_result"
    }
   ],
   "source": [
    "# TBD clean-up with Sashara\n",
    "\n",
    "supermarkets"
   ]
  },
  {
   "cell_type": "code",
   "execution_count": 18,
   "metadata": {},
   "outputs": [
    {
     "data": {
      "text/plain": [
       "55"
      ]
     },
     "execution_count": 18,
     "metadata": {},
     "output_type": "execute_result"
    }
   ],
   "source": [
    "# TODO check with Sashara\n",
    "towns = sorted(df.Town.unique())\n",
    "len(towns)"
   ]
  },
  {
   "cell_type": "code",
   "execution_count": 19,
   "metadata": {},
   "outputs": [
    {
     "data": {
      "text/plain": [
       "13"
      ]
     },
     "execution_count": 19,
     "metadata": {},
     "output_type": "execute_result"
    }
   ],
   "source": [
    "# TODO Kingston is missing here...\n",
    "parishes = sorted(df.Parish.unique())\n",
    "len(parishes)"
   ]
  },
  {
   "cell_type": "code",
   "execution_count": 20,
   "metadata": {},
   "outputs": [
    {
     "data": {
      "text/html": [
       "<div>\n",
       "<style scoped>\n",
       "    .dataframe tbody tr th:only-of-type {\n",
       "        vertical-align: middle;\n",
       "    }\n",
       "\n",
       "    .dataframe tbody tr th {\n",
       "        vertical-align: top;\n",
       "    }\n",
       "\n",
       "    .dataframe thead th {\n",
       "        text-align: right;\n",
       "    }\n",
       "</style>\n",
       "<table border=\"1\" class=\"dataframe\">\n",
       "  <thead>\n",
       "    <tr style=\"text-align: right;\">\n",
       "      <th></th>\n",
       "      <th>OutletID</th>\n",
       "      <th>SurveyDate</th>\n",
       "      <th>Outlet_Name</th>\n",
       "      <th>Town</th>\n",
       "      <th>Parish</th>\n",
       "      <th>Item</th>\n",
       "      <th>ItemID</th>\n",
       "      <th>Price</th>\n",
       "    </tr>\n",
       "  </thead>\n",
       "  <tbody>\n",
       "    <tr>\n",
       "      <th>1</th>\n",
       "      <td>243</td>\n",
       "      <td>2015-07-09</td>\n",
       "      <td>Shopper's Pride</td>\n",
       "      <td>Buff Bay</td>\n",
       "      <td>Portland</td>\n",
       "      <td>Batteries [Tx] Panasonic C</td>\n",
       "      <td>11649990</td>\n",
       "      <td>260.0</td>\n",
       "    </tr>\n",
       "    <tr>\n",
       "      <th>2</th>\n",
       "      <td>243</td>\n",
       "      <td>2015-07-09</td>\n",
       "      <td>Shopper's Pride</td>\n",
       "      <td>Buff Bay</td>\n",
       "      <td>Portland</td>\n",
       "      <td>Cabbage (Green) [Nt] Local 1 Kg</td>\n",
       "      <td>3548621</td>\n",
       "      <td>170.0</td>\n",
       "    </tr>\n",
       "    <tr>\n",
       "      <th>3</th>\n",
       "      <td>243</td>\n",
       "      <td>2015-07-09</td>\n",
       "      <td>Shopper's Pride</td>\n",
       "      <td>Buff Bay</td>\n",
       "      <td>Portland</td>\n",
       "      <td>Batteries [Tx] Duracell Aa</td>\n",
       "      <td>11646291</td>\n",
       "      <td>250.0</td>\n",
       "    </tr>\n",
       "    <tr>\n",
       "      <th>5</th>\n",
       "      <td>243</td>\n",
       "      <td>2015-07-09</td>\n",
       "      <td>Shopper's Pride</td>\n",
       "      <td>Buff Bay</td>\n",
       "      <td>Portland</td>\n",
       "      <td>Water Crackers National 143 G</td>\n",
       "      <td>5049392</td>\n",
       "      <td>71.0</td>\n",
       "    </tr>\n",
       "    <tr>\n",
       "      <th>7</th>\n",
       "      <td>243</td>\n",
       "      <td>2015-07-09</td>\n",
       "      <td>Shopper's Pride</td>\n",
       "      <td>Buff Bay</td>\n",
       "      <td>Portland</td>\n",
       "      <td>Dark Sugar (Pre-Packaged) [Nt] Sunshine Crysta...</td>\n",
       "      <td>11751122</td>\n",
       "      <td>171.0</td>\n",
       "    </tr>\n",
       "  </tbody>\n",
       "</table>\n",
       "</div>"
      ],
      "text/plain": [
       "   OutletID SurveyDate      Outlet_Name      Town    Parish  \\\n",
       "1       243 2015-07-09  Shopper's Pride  Buff Bay  Portland   \n",
       "2       243 2015-07-09  Shopper's Pride  Buff Bay  Portland   \n",
       "3       243 2015-07-09  Shopper's Pride  Buff Bay  Portland   \n",
       "5       243 2015-07-09  Shopper's Pride  Buff Bay  Portland   \n",
       "7       243 2015-07-09  Shopper's Pride  Buff Bay  Portland   \n",
       "\n",
       "                                                Item    ItemID  Price  \n",
       "1                         Batteries [Tx] Panasonic C  11649990  260.0  \n",
       "2                    Cabbage (Green) [Nt] Local 1 Kg   3548621  170.0  \n",
       "3                         Batteries [Tx] Duracell Aa  11646291  250.0  \n",
       "5                      Water Crackers National 143 G   5049392   71.0  \n",
       "7  Dark Sugar (Pre-Packaged) [Nt] Sunshine Crysta...  11751122  171.0  "
      ]
     },
     "execution_count": 20,
     "metadata": {},
     "output_type": "execute_result"
    }
   ],
   "source": [
    "df.head()"
   ]
  },
  {
   "cell_type": "code",
   "execution_count": 21,
   "metadata": {
    "scrolled": true
   },
   "outputs": [
    {
     "data": {
      "text/plain": [
       "231"
      ]
     },
     "execution_count": 21,
     "metadata": {},
     "output_type": "execute_result"
    }
   ],
   "source": [
    "# TODO what nt and tx means?? strip these?\n",
    "\n",
    "items = sorted(df.Item.unique())\n",
    "len(items)"
   ]
  },
  {
   "cell_type": "code",
   "execution_count": 26,
   "metadata": {},
   "outputs": [
    {
     "data": {
      "text/plain": [
       "<Axes: xlabel='Price', ylabel='Count'>"
      ]
     },
     "execution_count": 26,
     "metadata": {},
     "output_type": "execute_result"
    },
    {
     "data": {
      "image/png": "[encoded data removed]",
      "text/plain": [
       "<Figure size 640x480 with 1 Axes>"
      ]
     },
     "metadata": {},
     "output_type": "display_data"
    }
   ],
   "source": [
    "sns.histplot(df.Price, bins=20)"
   ]
  },
  {
   "cell_type": "code",
   "execution_count": 103,
   "metadata": {},
   "outputs": [],
   "source": [
    "# Save a checkpoint\n",
    "with open(pickle_filename, 'wb') as f:\n",
    "    pickle.dump(df, f)"
   ]
  },
  {
   "cell_type": "code",
   "execution_count": 104,
   "metadata": {},
   "outputs": [],
   "source": [
    "# Load checkpoint\n",
    "with open(pickle_filename, 'rb') as f:\n",
    "    df = pickle.load(f)"
   ]
  },
  {
   "cell_type": "markdown",
   "metadata": {},
   "source": [
    "### Sample analysis\n",
    "\n",
    "Whole Chicken (Grade A, Frozen) [Nt] Best Dressed 1 Kg\n",
    "ID: 10243821"
   ]
  },
  {
   "cell_type": "code",
   "execution_count": 109,
   "metadata": {},
   "outputs": [
    {
     "data": {
      "text/plain": [
       "(5267, 8)"
      ]
     },
     "execution_count": 109,
     "metadata": {},
     "output_type": "execute_result"
    }
   ],
   "source": [
    "id = 10243821\n",
    "df_chicken = df[df.ItemID == id]\n",
    "df_chicken.shape"
   ]
  },
  {
   "cell_type": "markdown",
   "metadata": {},
   "source": [
    "#### Monthly median price development"
   ]
  },
  {
   "cell_type": "code",
   "execution_count": 110,
   "metadata": {},
   "outputs": [
    {
     "data": {
      "text/plain": [
       "<Axes: xlabel='SurveyDate'>"
      ]
     },
     "execution_count": 110,
     "metadata": {},
     "output_type": "execute_result"
    },
    {
     "data": {
      "image/png": "[encoded data removed]",
      "text/plain": [
       "<Figure size 640x480 with 1 Axes>"
      ]
     },
     "metadata": {},
     "output_type": "display_data"
    }
   ],
   "source": [
    "df_chicken.set_index('SurveyDate').groupby(pd.Grouper(freq='ME')).Price.median().plot()"
   ]
  },
  {
   "cell_type": "markdown",
   "metadata": {},
   "source": [
    "#### Cheapest place to buy?"
   ]
  },
  {
   "cell_type": "code",
   "execution_count": 125,
   "metadata": {},
   "outputs": [],
   "source": [
    "latest_year = max(df_chicken.SurveyDate.dt.year)"
   ]
  },
  {
   "cell_type": "code",
   "execution_count": 126,
   "metadata": {},
   "outputs": [],
   "source": [
    "# Take latest prices for each OutletID\n",
    "df_prices = chicken[chicken.SurveyDate.dt.year == latest_year].groupby('OutletID').last().reset_index()"
   ]
  },
  {
   "cell_type": "code",
   "execution_count": 127,
   "metadata": {
    "scrolled": true
   },
   "outputs": [
    {
     "data": {
      "text/html": [
       "<div>\n",
       "<style scoped>\n",
       "    .dataframe tbody tr th:only-of-type {\n",
       "        vertical-align: middle;\n",
       "    }\n",
       "\n",
       "    .dataframe tbody tr th {\n",
       "        vertical-align: top;\n",
       "    }\n",
       "\n",
       "    .dataframe thead th {\n",
       "        text-align: right;\n",
       "    }\n",
       "</style>\n",
       "<table border=\"1\" class=\"dataframe\">\n",
       "  <thead>\n",
       "    <tr style=\"text-align: right;\">\n",
       "      <th></th>\n",
       "      <th>OutletID</th>\n",
       "      <th>SurveyDate</th>\n",
       "      <th>Outlet_Name</th>\n",
       "      <th>Town</th>\n",
       "      <th>Parish</th>\n",
       "      <th>Item</th>\n",
       "      <th>ItemID</th>\n",
       "      <th>Price</th>\n",
       "    </tr>\n",
       "  </thead>\n",
       "  <tbody>\n",
       "    <tr>\n",
       "      <th>0</th>\n",
       "      <td>19</td>\n",
       "      <td>2017-03-09</td>\n",
       "      <td>A J's Supermarket</td>\n",
       "      <td>Spanish Town</td>\n",
       "      <td>St. Catherine</td>\n",
       "      <td>Whole Chicken (Grade A, Frozen) [Nt] Best Dres...</td>\n",
       "      <td>10243821</td>\n",
       "      <td>463.40</td>\n",
       "    </tr>\n",
       "    <tr>\n",
       "      <th>1</th>\n",
       "      <td>35</td>\n",
       "      <td>2017-03-09</td>\n",
       "      <td>Brooklyn (Twin Gates Plaza)</td>\n",
       "      <td>Half-Way Tree</td>\n",
       "      <td>St. Andrew</td>\n",
       "      <td>Whole Chicken (Grade A, Frozen) [Nt] Best Dres...</td>\n",
       "      <td>10243821</td>\n",
       "      <td>498.96</td>\n",
       "    </tr>\n",
       "    <tr>\n",
       "      <th>2</th>\n",
       "      <td>47</td>\n",
       "      <td>2017-03-09</td>\n",
       "      <td>D &amp; Y Supermarket</td>\n",
       "      <td>Savanna-La-Mar</td>\n",
       "      <td>Westmoreland</td>\n",
       "      <td>Whole Chicken (Grade A, Frozen) [Nt] Best Dres...</td>\n",
       "      <td>10243821</td>\n",
       "      <td>463.30</td>\n",
       "    </tr>\n",
       "    <tr>\n",
       "      <th>3</th>\n",
       "      <td>58</td>\n",
       "      <td>2017-03-09</td>\n",
       "      <td>Family Pride</td>\n",
       "      <td>Havendale</td>\n",
       "      <td>St. Andrew</td>\n",
       "      <td>Whole Chicken (Grade A, Frozen) [Nt] Best Dres...</td>\n",
       "      <td>10243821</td>\n",
       "      <td>474.01</td>\n",
       "    </tr>\n",
       "    <tr>\n",
       "      <th>4</th>\n",
       "      <td>60</td>\n",
       "      <td>2017-03-09</td>\n",
       "      <td>Fedlin Supermarket</td>\n",
       "      <td>Santa Cruz</td>\n",
       "      <td>St. Elizabeth</td>\n",
       "      <td>Whole Chicken (Grade A, Frozen) [Nt] Best Dres...</td>\n",
       "      <td>10243821</td>\n",
       "      <td>492.80</td>\n",
       "    </tr>\n",
       "  </tbody>\n",
       "</table>\n",
       "</div>"
      ],
      "text/plain": [
       "   OutletID SurveyDate                  Outlet_Name            Town  \\\n",
       "0        19 2017-03-09            A J's Supermarket    Spanish Town   \n",
       "1        35 2017-03-09  Brooklyn (Twin Gates Plaza)   Half-Way Tree   \n",
       "2        47 2017-03-09            D & Y Supermarket  Savanna-La-Mar   \n",
       "3        58 2017-03-09                 Family Pride       Havendale   \n",
       "4        60 2017-03-09           Fedlin Supermarket      Santa Cruz   \n",
       "\n",
       "          Parish                                               Item    ItemID  \\\n",
       "0  St. Catherine  Whole Chicken (Grade A, Frozen) [Nt] Best Dres...  10243821   \n",
       "1     St. Andrew  Whole Chicken (Grade A, Frozen) [Nt] Best Dres...  10243821   \n",
       "2   Westmoreland  Whole Chicken (Grade A, Frozen) [Nt] Best Dres...  10243821   \n",
       "3     St. Andrew  Whole Chicken (Grade A, Frozen) [Nt] Best Dres...  10243821   \n",
       "4  St. Elizabeth  Whole Chicken (Grade A, Frozen) [Nt] Best Dres...  10243821   \n",
       "\n",
       "    Price  \n",
       "0  463.40  \n",
       "1  498.96  \n",
       "2  463.30  \n",
       "3  474.01  \n",
       "4  492.80  "
      ]
     },
     "execution_count": 127,
     "metadata": {},
     "output_type": "execute_result"
    }
   ],
   "source": [
    "df_prices.head()"
   ]
  },
  {
   "cell_type": "code",
   "execution_count": 128,
   "metadata": {
    "scrolled": true
   },
   "outputs": [
    {
     "data": {
      "text/html": [
       "<div>\n",
       "<style scoped>\n",
       "    .dataframe tbody tr th:only-of-type {\n",
       "        vertical-align: middle;\n",
       "    }\n",
       "\n",
       "    .dataframe tbody tr th {\n",
       "        vertical-align: top;\n",
       "    }\n",
       "\n",
       "    .dataframe thead th {\n",
       "        text-align: right;\n",
       "    }\n",
       "</style>\n",
       "<table border=\"1\" class=\"dataframe\">\n",
       "  <thead>\n",
       "    <tr style=\"text-align: right;\">\n",
       "      <th></th>\n",
       "      <th>OutletID</th>\n",
       "      <th>SurveyDate</th>\n",
       "      <th>Outlet_Name</th>\n",
       "      <th>Parish</th>\n",
       "      <th>Item</th>\n",
       "      <th>ItemID</th>\n",
       "      <th>Price</th>\n",
       "    </tr>\n",
       "    <tr>\n",
       "      <th>Town</th>\n",
       "      <th></th>\n",
       "      <th></th>\n",
       "      <th></th>\n",
       "      <th></th>\n",
       "      <th></th>\n",
       "      <th></th>\n",
       "      <th></th>\n",
       "    </tr>\n",
       "  </thead>\n",
       "  <tbody>\n",
       "    <tr>\n",
       "      <th>Portmore</th>\n",
       "      <td>89</td>\n",
       "      <td>2017-01-05</td>\n",
       "      <td>Independence City Super Market - Portmore</td>\n",
       "      <td>St. Catherine</td>\n",
       "      <td>Whole Chicken (Grade A, Frozen) [Nt] Best Dres...</td>\n",
       "      <td>10243821</td>\n",
       "      <td>418.00</td>\n",
       "    </tr>\n",
       "    <tr>\n",
       "      <th>Cambridge</th>\n",
       "      <td>192</td>\n",
       "      <td>2017-03-09</td>\n",
       "      <td>Zhen's Wholesale</td>\n",
       "      <td>St. James</td>\n",
       "      <td>Whole Chicken (Grade A, Frozen) [Nt] Best Dres...</td>\n",
       "      <td>10243821</td>\n",
       "      <td>418.00</td>\n",
       "    </tr>\n",
       "    <tr>\n",
       "      <th>Washington Boulevard</th>\n",
       "      <td>100</td>\n",
       "      <td>2017-03-09</td>\n",
       "      <td>Lee's Food Fair</td>\n",
       "      <td>St. Andrew</td>\n",
       "      <td>Whole Chicken (Grade A, Frozen) [Nt] Best Dres...</td>\n",
       "      <td>10243821</td>\n",
       "      <td>418.77</td>\n",
       "    </tr>\n",
       "    <tr>\n",
       "      <th>Montego Bay</th>\n",
       "      <td>72</td>\n",
       "      <td>2017-03-09</td>\n",
       "      <td>Best Value Supermarket</td>\n",
       "      <td>St. James</td>\n",
       "      <td>Whole Chicken (Grade A, Frozen) [Nt] Best Dres...</td>\n",
       "      <td>10243821</td>\n",
       "      <td>421.80</td>\n",
       "    </tr>\n",
       "    <tr>\n",
       "      <th>Port Antonio</th>\n",
       "      <td>94</td>\n",
       "      <td>2017-03-09</td>\n",
       "      <td>Kamal's</td>\n",
       "      <td>Portland</td>\n",
       "      <td>Whole Chicken (Grade A, Frozen) [Nt] Best Dres...</td>\n",
       "      <td>10243821</td>\n",
       "      <td>426.80</td>\n",
       "    </tr>\n",
       "    <tr>\n",
       "      <th>Brown's Town</th>\n",
       "      <td>591</td>\n",
       "      <td>2017-03-09</td>\n",
       "      <td>Brown's Town Supermarket</td>\n",
       "      <td>St. Ann</td>\n",
       "      <td>Whole Chicken (Grade A, Frozen) [Nt] Best Dres...</td>\n",
       "      <td>10243821</td>\n",
       "      <td>429.00</td>\n",
       "    </tr>\n",
       "    <tr>\n",
       "      <th>Lucea</th>\n",
       "      <td>117</td>\n",
       "      <td>2017-03-09</td>\n",
       "      <td>Cheries Supermarket</td>\n",
       "      <td>Hanover</td>\n",
       "      <td>Whole Chicken (Grade A, Frozen) [Nt] Best Dres...</td>\n",
       "      <td>10243821</td>\n",
       "      <td>429.00</td>\n",
       "    </tr>\n",
       "    <tr>\n",
       "      <th>Savanna-La-Mar</th>\n",
       "      <td>47</td>\n",
       "      <td>2017-03-09</td>\n",
       "      <td>D &amp; Y Supermarket</td>\n",
       "      <td>Westmoreland</td>\n",
       "      <td>Whole Chicken (Grade A, Frozen) [Nt] Best Dres...</td>\n",
       "      <td>10243821</td>\n",
       "      <td>433.16</td>\n",
       "    </tr>\n",
       "    <tr>\n",
       "      <th>Christiana</th>\n",
       "      <td>92</td>\n",
       "      <td>2017-02-09</td>\n",
       "      <td>Jr's</td>\n",
       "      <td>Manchester</td>\n",
       "      <td>Whole Chicken (Grade A, Frozen) [Nt] Best Dres...</td>\n",
       "      <td>10243821</td>\n",
       "      <td>440.00</td>\n",
       "    </tr>\n",
       "    <tr>\n",
       "      <th>Four Paths</th>\n",
       "      <td>154</td>\n",
       "      <td>2017-03-09</td>\n",
       "      <td>Super Plus</td>\n",
       "      <td>Clarendon</td>\n",
       "      <td>Whole Chicken (Grade A, Frozen) [Nt] Best Dres...</td>\n",
       "      <td>10243821</td>\n",
       "      <td>440.00</td>\n",
       "    </tr>\n",
       "  </tbody>\n",
       "</table>\n",
       "</div>"
      ],
      "text/plain": [
       "                      OutletID SurveyDate  \\\n",
       "Town                                        \n",
       "Portmore                    89 2017-01-05   \n",
       "Cambridge                  192 2017-03-09   \n",
       "Washington Boulevard       100 2017-03-09   \n",
       "Montego Bay                 72 2017-03-09   \n",
       "Port Antonio                94 2017-03-09   \n",
       "Brown's Town               591 2017-03-09   \n",
       "Lucea                      117 2017-03-09   \n",
       "Savanna-La-Mar              47 2017-03-09   \n",
       "Christiana                  92 2017-02-09   \n",
       "Four Paths                 154 2017-03-09   \n",
       "\n",
       "                                                    Outlet_Name  \\\n",
       "Town                                                              \n",
       "Portmore              Independence City Super Market - Portmore   \n",
       "Cambridge                                      Zhen's Wholesale   \n",
       "Washington Boulevard                            Lee's Food Fair   \n",
       "Montego Bay                              Best Value Supermarket   \n",
       "Port Antonio                                            Kamal's   \n",
       "Brown's Town                           Brown's Town Supermarket   \n",
       "Lucea                                       Cheries Supermarket   \n",
       "Savanna-La-Mar                                D & Y Supermarket   \n",
       "Christiana                                                 Jr's   \n",
       "Four Paths                                           Super Plus   \n",
       "\n",
       "                             Parish  \\\n",
       "Town                                  \n",
       "Portmore              St. Catherine   \n",
       "Cambridge                 St. James   \n",
       "Washington Boulevard     St. Andrew   \n",
       "Montego Bay               St. James   \n",
       "Port Antonio               Portland   \n",
       "Brown's Town                St. Ann   \n",
       "Lucea                       Hanover   \n",
       "Savanna-La-Mar         Westmoreland   \n",
       "Christiana               Manchester   \n",
       "Four Paths                Clarendon   \n",
       "\n",
       "                                                                   Item  \\\n",
       "Town                                                                      \n",
       "Portmore              Whole Chicken (Grade A, Frozen) [Nt] Best Dres...   \n",
       "Cambridge             Whole Chicken (Grade A, Frozen) [Nt] Best Dres...   \n",
       "Washington Boulevard  Whole Chicken (Grade A, Frozen) [Nt] Best Dres...   \n",
       "Montego Bay           Whole Chicken (Grade A, Frozen) [Nt] Best Dres...   \n",
       "Port Antonio          Whole Chicken (Grade A, Frozen) [Nt] Best Dres...   \n",
       "Brown's Town          Whole Chicken (Grade A, Frozen) [Nt] Best Dres...   \n",
       "Lucea                 Whole Chicken (Grade A, Frozen) [Nt] Best Dres...   \n",
       "Savanna-La-Mar        Whole Chicken (Grade A, Frozen) [Nt] Best Dres...   \n",
       "Christiana            Whole Chicken (Grade A, Frozen) [Nt] Best Dres...   \n",
       "Four Paths            Whole Chicken (Grade A, Frozen) [Nt] Best Dres...   \n",
       "\n",
       "                        ItemID   Price  \n",
       "Town                                    \n",
       "Portmore              10243821  418.00  \n",
       "Cambridge             10243821  418.00  \n",
       "Washington Boulevard  10243821  418.77  \n",
       "Montego Bay           10243821  421.80  \n",
       "Port Antonio          10243821  426.80  \n",
       "Brown's Town          10243821  429.00  \n",
       "Lucea                 10243821  429.00  \n",
       "Savanna-La-Mar        10243821  433.16  \n",
       "Christiana            10243821  440.00  \n",
       "Four Paths            10243821  440.00  "
      ]
     },
     "execution_count": 128,
     "metadata": {},
     "output_type": "execute_result"
    }
   ],
   "source": [
    "# 10 cheapest\n",
    "df_prices.groupby('Town').min().sort_values('Price')[:10]"
   ]
  },
  {
   "cell_type": "code",
   "execution_count": 124,
   "metadata": {
    "scrolled": true
   },
   "outputs": [
    {
     "data": {
      "text/html": [
       "<div>\n",
       "<style scoped>\n",
       "    .dataframe tbody tr th:only-of-type {\n",
       "        vertical-align: middle;\n",
       "    }\n",
       "\n",
       "    .dataframe tbody tr th {\n",
       "        vertical-align: top;\n",
       "    }\n",
       "\n",
       "    .dataframe thead th {\n",
       "        text-align: right;\n",
       "    }\n",
       "</style>\n",
       "<table border=\"1\" class=\"dataframe\">\n",
       "  <thead>\n",
       "    <tr style=\"text-align: right;\">\n",
       "      <th></th>\n",
       "      <th>OutletID</th>\n",
       "      <th>SurveyDate</th>\n",
       "      <th>Outlet_Name</th>\n",
       "      <th>Parish</th>\n",
       "      <th>Item</th>\n",
       "      <th>ItemID</th>\n",
       "      <th>Price</th>\n",
       "    </tr>\n",
       "    <tr>\n",
       "      <th>Town</th>\n",
       "      <th></th>\n",
       "      <th></th>\n",
       "      <th></th>\n",
       "      <th></th>\n",
       "      <th></th>\n",
       "      <th></th>\n",
       "      <th></th>\n",
       "    </tr>\n",
       "  </thead>\n",
       "  <tbody>\n",
       "    <tr>\n",
       "      <th>Junction</th>\n",
       "      <td>247</td>\n",
       "      <td>2017-03-09</td>\n",
       "      <td>Shopper's Fair</td>\n",
       "      <td>St. Elizabeth</td>\n",
       "      <td>Whole Chicken (Grade A, Frozen) [Nt] Best Dres...</td>\n",
       "      <td>10243821</td>\n",
       "      <td>522.83</td>\n",
       "    </tr>\n",
       "    <tr>\n",
       "      <th>May Pen</th>\n",
       "      <td>246</td>\n",
       "      <td>2017-03-09</td>\n",
       "      <td>Shopper's Fair</td>\n",
       "      <td>Clarendon</td>\n",
       "      <td>Whole Chicken (Grade A, Frozen) [Nt] Best Dres...</td>\n",
       "      <td>10243821</td>\n",
       "      <td>515.19</td>\n",
       "    </tr>\n",
       "    <tr>\n",
       "      <th>Constant Spring</th>\n",
       "      <td>181</td>\n",
       "      <td>2017-01-05</td>\n",
       "      <td>Public Supermarket</td>\n",
       "      <td>St. Andrew</td>\n",
       "      <td>Whole Chicken (Grade A, Frozen) [Nt] Best Dres...</td>\n",
       "      <td>10243821</td>\n",
       "      <td>498.99</td>\n",
       "    </tr>\n",
       "    <tr>\n",
       "      <th>Half-Way Tree</th>\n",
       "      <td>222</td>\n",
       "      <td>2017-03-09</td>\n",
       "      <td>Brooklyn (Twin Gates Plaza)</td>\n",
       "      <td>St. Andrew</td>\n",
       "      <td>Whole Chicken (Grade A, Frozen) [Nt] Best Dres...</td>\n",
       "      <td>10243821</td>\n",
       "      <td>498.96</td>\n",
       "    </tr>\n",
       "    <tr>\n",
       "      <th>Esher</th>\n",
       "      <td>218</td>\n",
       "      <td>2017-03-09</td>\n",
       "      <td>Gayle's Grocery</td>\n",
       "      <td>St. Mary</td>\n",
       "      <td>Whole Chicken (Grade A, Frozen) [Nt] Best Dres...</td>\n",
       "      <td>10243821</td>\n",
       "      <td>495.00</td>\n",
       "    </tr>\n",
       "    <tr>\n",
       "      <th>Santa Cruz</th>\n",
       "      <td>190</td>\n",
       "      <td>2017-03-09</td>\n",
       "      <td>Fedlin Supermarket</td>\n",
       "      <td>St. Elizabeth</td>\n",
       "      <td>Whole Chicken (Grade A, Frozen) [Nt] Best Dres...</td>\n",
       "      <td>10243821</td>\n",
       "      <td>492.80</td>\n",
       "    </tr>\n",
       "    <tr>\n",
       "      <th>Spanish Town</th>\n",
       "      <td>694</td>\n",
       "      <td>2017-03-09</td>\n",
       "      <td>Shopper's Fair</td>\n",
       "      <td>St. Catherine</td>\n",
       "      <td>Whole Chicken (Grade A, Frozen) [Nt] Best Dres...</td>\n",
       "      <td>10243821</td>\n",
       "      <td>485.01</td>\n",
       "    </tr>\n",
       "    <tr>\n",
       "      <th>Buff Bay</th>\n",
       "      <td>243</td>\n",
       "      <td>2017-03-09</td>\n",
       "      <td>Shopper's Pride</td>\n",
       "      <td>Portland</td>\n",
       "      <td>Whole Chicken (Grade A, Frozen) [Nt] Best Dres...</td>\n",
       "      <td>10243821</td>\n",
       "      <td>484.00</td>\n",
       "    </tr>\n",
       "    <tr>\n",
       "      <th>Lucea</th>\n",
       "      <td>466</td>\n",
       "      <td>2017-03-09</td>\n",
       "      <td>Naing Supermarket</td>\n",
       "      <td>Hanover</td>\n",
       "      <td>Whole Chicken (Grade A, Frozen) [Nt] Best Dres...</td>\n",
       "      <td>10243821</td>\n",
       "      <td>484.00</td>\n",
       "    </tr>\n",
       "    <tr>\n",
       "      <th>Black River</th>\n",
       "      <td>683</td>\n",
       "      <td>2017-03-09</td>\n",
       "      <td>Snc Supermarket</td>\n",
       "      <td>St. Elizabeth</td>\n",
       "      <td>Whole Chicken (Grade A, Frozen) [Nt] Best Dres...</td>\n",
       "      <td>10243821</td>\n",
       "      <td>483.80</td>\n",
       "    </tr>\n",
       "  </tbody>\n",
       "</table>\n",
       "</div>"
      ],
      "text/plain": [
       "                 OutletID SurveyDate                  Outlet_Name  \\\n",
       "Town                                                                \n",
       "Junction              247 2017-03-09               Shopper's Fair   \n",
       "May Pen               246 2017-03-09               Shopper's Fair   \n",
       "Constant Spring       181 2017-01-05           Public Supermarket   \n",
       "Half-Way Tree         222 2017-03-09  Brooklyn (Twin Gates Plaza)   \n",
       "Esher                 218 2017-03-09              Gayle's Grocery   \n",
       "Santa Cruz            190 2017-03-09           Fedlin Supermarket   \n",
       "Spanish Town          694 2017-03-09               Shopper's Fair   \n",
       "Buff Bay              243 2017-03-09              Shopper's Pride   \n",
       "Lucea                 466 2017-03-09            Naing Supermarket   \n",
       "Black River           683 2017-03-09              Snc Supermarket   \n",
       "\n",
       "                        Parish  \\\n",
       "Town                             \n",
       "Junction         St. Elizabeth   \n",
       "May Pen              Clarendon   \n",
       "Constant Spring     St. Andrew   \n",
       "Half-Way Tree       St. Andrew   \n",
       "Esher                 St. Mary   \n",
       "Santa Cruz       St. Elizabeth   \n",
       "Spanish Town     St. Catherine   \n",
       "Buff Bay              Portland   \n",
       "Lucea                  Hanover   \n",
       "Black River      St. Elizabeth   \n",
       "\n",
       "                                                              Item    ItemID  \\\n",
       "Town                                                                           \n",
       "Junction         Whole Chicken (Grade A, Frozen) [Nt] Best Dres...  10243821   \n",
       "May Pen          Whole Chicken (Grade A, Frozen) [Nt] Best Dres...  10243821   \n",
       "Constant Spring  Whole Chicken (Grade A, Frozen) [Nt] Best Dres...  10243821   \n",
       "Half-Way Tree    Whole Chicken (Grade A, Frozen) [Nt] Best Dres...  10243821   \n",
       "Esher            Whole Chicken (Grade A, Frozen) [Nt] Best Dres...  10243821   \n",
       "Santa Cruz       Whole Chicken (Grade A, Frozen) [Nt] Best Dres...  10243821   \n",
       "Spanish Town     Whole Chicken (Grade A, Frozen) [Nt] Best Dres...  10243821   \n",
       "Buff Bay         Whole Chicken (Grade A, Frozen) [Nt] Best Dres...  10243821   \n",
       "Lucea            Whole Chicken (Grade A, Frozen) [Nt] Best Dres...  10243821   \n",
       "Black River      Whole Chicken (Grade A, Frozen) [Nt] Best Dres...  10243821   \n",
       "\n",
       "                  Price  \n",
       "Town                     \n",
       "Junction         522.83  \n",
       "May Pen          515.19  \n",
       "Constant Spring  498.99  \n",
       "Half-Way Tree    498.96  \n",
       "Esher            495.00  \n",
       "Santa Cruz       492.80  \n",
       "Spanish Town     485.01  \n",
       "Buff Bay         484.00  \n",
       "Lucea            484.00  \n",
       "Black River      483.80  "
      ]
     },
     "execution_count": 124,
     "metadata": {},
     "output_type": "execute_result"
    }
   ],
   "source": [
    "# 10 most expensive\n",
    "df_prices.groupby('Town').max().sort_values('Price', ascending=False)[:10]"
   ]
  },
  {
   "cell_type": "code",
   "execution_count": null,
   "metadata": {},
   "outputs": [],
   "source": []
  }
 ],
 "metadata": {
  "kernelspec": {
   "display_name": "Python [conda env:jamrock]",
   "language": "python",
   "name": "conda-env-jamrock-py"
  },
  "language_info": {
   "codemirror_mode": {
    "name": "ipython",
    "version": 3
   },
   "file_extension": ".py",
   "mimetype": "text/x-python",
   "name": "python",
   "nbconvert_exporter": "python",
   "pygments_lexer": "ipython3",
   "version": "3.12.8"
  }
 },
 "nbformat": 4,
 "nbformat_minor": 4
}
