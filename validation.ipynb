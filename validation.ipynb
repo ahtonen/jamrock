{
 "cells": [
  {
   "cell_type": "markdown",
   "metadata": {},
   "source": [
    "# Data exploration of Grocery Prices in Jamaica\n",
    "\n",
    "Source: https://www.data.gov.jm/dataset/consumer-grocery-prices\n",
    "\n",
    "Timespan about 2012-2017"
   ]
  },
  {
   "cell_type": "markdown",
   "metadata": {},
   "source": [
    "## Setup imports"
   ]
  },
  {
   "cell_type": "code",
   "execution_count": 1,
   "metadata": {
    "tags": []
   },
   "outputs": [],
   "source": [
    "%matplotlib inline\n",
    "\n",
    "import os, sys\n",
    "import shutil\n",
    "import tempfile\n",
    "import glob\n",
    "import re\n",
    "import time\n",
    "import datetime\n",
    "import copy\n",
    "import pickle\n",
    "import hashlib\n",
    "import logging\n",
    "import warnings\n",
    "import random\n",
    "\n",
    "import matplotlib.pyplot as plt\n",
    "import pandas as pd\n",
    "import numpy as np\n",
    "import seaborn as sns\n",
    "\n",
    "sns.set_style(\"whitegrid\")\n",
    "pd.set_option('display.max_rows', 100)"
   ]
  },
  {
   "cell_type": "code",
   "execution_count": 2,
   "metadata": {},
   "outputs": [],
   "source": [
    "# log level\n",
    "logging.basicConfig(\n",
    "    stream=sys.stdout,\n",
    "    format='%(asctime)s %(levelname)s: %(message)s',\n",
    "    level=logging.INFO)\n",
    "\n",
    "logger = logging.getLogger(\"notebook\")\n",
    "logger.setLevel(logging.DEBUG)\n",
    "\n",
    "# disable font not found warnings\n",
    "logging.getLogger('matplotlib.font_manager').disabled = True"
   ]
  },
  {
   "cell_type": "markdown",
   "metadata": {},
   "source": [
    "## Read data"
   ]
  },
  {
   "cell_type": "code",
   "execution_count": 3,
   "metadata": {
    "tags": []
   },
   "outputs": [
    {
     "name": "stdout",
     "output_type": "stream",
     "text": [
      "env: DATA_DIRECTORY=data\n"
     ]
    }
   ],
   "source": [
    "# Use Jupyter magic to retain variable in this notebook\n",
    "%env DATA_DIRECTORY=data\n",
    "\n",
    "data_dir = os.environ.get(\"DATA_DIRECTORY\")\n",
    "#root_dir = tempfile.mkdtemp() if directory is None else directory\n",
    "dataset_regex = \"Grocery_Price_Survey_201?_Q?.csv\""
   ]
  },
  {
   "cell_type": "code",
   "execution_count": 4,
   "metadata": {},
   "outputs": [
    {
     "data": {
      "text/plain": [
       "21"
      ]
     },
     "execution_count": 4,
     "metadata": {},
     "output_type": "execute_result"
    }
   ],
   "source": [
    "from pathlib import Path\n",
    "\n",
    "csv_files = list(Path(data_dir).glob(dataset_regex))\n",
    "len(csv_files)"
   ]
  },
  {
   "cell_type": "code",
   "execution_count": 5,
   "metadata": {},
   "outputs": [],
   "source": [
    "df_list = []\n",
    "\n",
    "for f in csv_files:\n",
    "    df_list.append(pd.read_csv(f, parse_dates=['SurveyDate'],\n",
    "                               dtype={'Outlet_Name': 'str', 'Town': 'str',\n",
    "                                      'Parish': 'str', 'Item':'str', 'Price': np.float64},\n",
    "                               na_values=['N\\\\A']))\n",
    "\n",
    "df = pd.concat(df_list, ignore_index=True, axis=0)"
   ]
  },
  {
   "cell_type": "code",
   "execution_count": 6,
   "metadata": {},
   "outputs": [
    {
     "data": {
      "text/plain": [
       "OutletID                int64\n",
       "SurveyDate     datetime64[ns]\n",
       "Outlet_Name            object\n",
       "Town                   object\n",
       "Parish                 object\n",
       "Item                   object\n",
       "ItemID                  int64\n",
       "Price                 float64\n",
       "dtype: object"
      ]
     },
     "execution_count": 6,
     "metadata": {},
     "output_type": "execute_result"
    }
   ],
   "source": [
    "df.dtypes"
   ]
  },
  {
   "cell_type": "code",
   "execution_count": 7,
   "metadata": {},
   "outputs": [
    {
     "data": {
      "text/plain": [
       "np.int64(97746)"
      ]
     },
     "execution_count": 7,
     "metadata": {},
     "output_type": "execute_result"
    }
   ],
   "source": [
    "df.Price.isnull().sum()"
   ]
  },
  {
   "cell_type": "code",
   "execution_count": 8,
   "metadata": {},
   "outputs": [
    {
     "data": {
      "text/plain": [
       "(606454, 8)"
      ]
     },
     "execution_count": 8,
     "metadata": {},
     "output_type": "execute_result"
    }
   ],
   "source": [
    "df.shape"
   ]
  },
  {
   "cell_type": "code",
   "execution_count": 9,
   "metadata": {},
   "outputs": [
    {
     "data": {
      "text/plain": [
       "(369563, 8)"
      ]
     },
     "execution_count": 9,
     "metadata": {},
     "output_type": "execute_result"
    }
   ],
   "source": [
    "# Drop null prices\n",
    "df = df.dropna()\n",
    "# Drop non positive prices\n",
    "df = df[df.Price > 0.]\n",
    "df.shape"
   ]
  },
  {
   "cell_type": "code",
   "execution_count": 10,
   "metadata": {},
   "outputs": [],
   "source": [
    "def clean_names(column):\n",
    "    \"\"\"\n",
    "    Strip backslashes and leading and trailing spaces\n",
    "    \"\"\"\n",
    "    # dump multiple spaces\n",
    "    temp = column.str.replace(\"\\\\\",\"\")\n",
    "    temp = temp.str.replace(\"  \",\" \")\n",
    "    temp = temp.str.replace(\"   \",\" \")\n",
    "    temp = temp.str.strip(' -')\n",
    "    temp = temp.str.title()\n",
    "    temp = temp.str.replace(\"'S\", \"'s\")\n",
    "    temp = temp.str.replace(\"St.Thomas\", \"St. Thomas\") \n",
    "\n",
    "    return temp"
   ]
  },
  {
   "cell_type": "code",
   "execution_count": 11,
   "metadata": {},
   "outputs": [],
   "source": [
    "for name in df.columns[[2,3,4,5]]:\n",
    "    df[name] = clean_names(df[name])"
   ]
  },
  {
   "cell_type": "code",
   "execution_count": 12,
   "metadata": {},
   "outputs": [
    {
     "data": {
      "text/html": [
       "<div>\n",
       "<style scoped>\n",
       "    .dataframe tbody tr th:only-of-type {\n",
       "        vertical-align: middle;\n",
       "    }\n",
       "\n",
       "    .dataframe tbody tr th {\n",
       "        vertical-align: top;\n",
       "    }\n",
       "\n",
       "    .dataframe thead th {\n",
       "        text-align: right;\n",
       "    }\n",
       "</style>\n",
       "<table border=\"1\" class=\"dataframe\">\n",
       "  <thead>\n",
       "    <tr style=\"text-align: right;\">\n",
       "      <th></th>\n",
       "      <th>OutletID</th>\n",
       "      <th>SurveyDate</th>\n",
       "      <th>Outlet_Name</th>\n",
       "      <th>Town</th>\n",
       "      <th>Parish</th>\n",
       "      <th>Item</th>\n",
       "      <th>ItemID</th>\n",
       "      <th>Price</th>\n",
       "    </tr>\n",
       "  </thead>\n",
       "  <tbody>\n",
       "    <tr>\n",
       "      <th>517899</th>\n",
       "      <td>154</td>\n",
       "      <td>2012-01-05</td>\n",
       "      <td>Super Plus</td>\n",
       "      <td>Four Paths</td>\n",
       "      <td>Clarendon</td>\n",
       "      <td>Sweetened Condensed Milk [Tx] Nestle 395 G</td>\n",
       "      <td>9149452</td>\n",
       "      <td>150.00</td>\n",
       "    </tr>\n",
       "    <tr>\n",
       "      <th>520231</th>\n",
       "      <td>89</td>\n",
       "      <td>2012-01-05</td>\n",
       "      <td>Joong</td>\n",
       "      <td>Portmore</td>\n",
       "      <td>St. Catherine</td>\n",
       "      <td>Powdered  Laundry Detergent [Tx] Ariel 400 G</td>\n",
       "      <td>7843653</td>\n",
       "      <td>163.99</td>\n",
       "    </tr>\n",
       "    <tr>\n",
       "      <th>520232</th>\n",
       "      <td>89</td>\n",
       "      <td>2012-01-05</td>\n",
       "      <td>Joong</td>\n",
       "      <td>Portmore</td>\n",
       "      <td>St. Catherine</td>\n",
       "      <td>Insect Spray [Tx] Baygon 260 Ml</td>\n",
       "      <td>6443742</td>\n",
       "      <td>274.00</td>\n",
       "    </tr>\n",
       "    <tr>\n",
       "      <th>520233</th>\n",
       "      <td>89</td>\n",
       "      <td>2012-01-05</td>\n",
       "      <td>Joong</td>\n",
       "      <td>Portmore</td>\n",
       "      <td>St. Catherine</td>\n",
       "      <td>Whole Chicken (Grade A, Frozen) [Nt] Best Dres...</td>\n",
       "      <td>10243821</td>\n",
       "      <td>368.00</td>\n",
       "    </tr>\n",
       "    <tr>\n",
       "      <th>520234</th>\n",
       "      <td>89</td>\n",
       "      <td>2012-01-05</td>\n",
       "      <td>Joong</td>\n",
       "      <td>Portmore</td>\n",
       "      <td>St. Catherine</td>\n",
       "      <td>Pepper [Tx] Betapac 110 G</td>\n",
       "      <td>7643928</td>\n",
       "      <td>191.00</td>\n",
       "    </tr>\n",
       "    <tr>\n",
       "      <th>...</th>\n",
       "      <td>...</td>\n",
       "      <td>...</td>\n",
       "      <td>...</td>\n",
       "      <td>...</td>\n",
       "      <td>...</td>\n",
       "      <td>...</td>\n",
       "      <td>...</td>\n",
       "      <td>...</td>\n",
       "    </tr>\n",
       "    <tr>\n",
       "      <th>101898</th>\n",
       "      <td>192</td>\n",
       "      <td>2017-03-09</td>\n",
       "      <td>Zhen's Wholesale</td>\n",
       "      <td>Cambridge</td>\n",
       "      <td>St. James</td>\n",
       "      <td>Matches [Tx] Any 1 Pk</td>\n",
       "      <td>7281823</td>\n",
       "      <td>50.00</td>\n",
       "    </tr>\n",
       "    <tr>\n",
       "      <th>101896</th>\n",
       "      <td>192</td>\n",
       "      <td>2017-03-09</td>\n",
       "      <td>Zhen's Wholesale</td>\n",
       "      <td>Cambridge</td>\n",
       "      <td>St. James</td>\n",
       "      <td>Mosquito Destroyer [Tx] Vape 6 Coils</td>\n",
       "      <td>7381961</td>\n",
       "      <td>80.00</td>\n",
       "    </tr>\n",
       "    <tr>\n",
       "      <th>101895</th>\n",
       "      <td>192</td>\n",
       "      <td>2017-03-09</td>\n",
       "      <td>Zhen's Wholesale</td>\n",
       "      <td>Cambridge</td>\n",
       "      <td>St. James</td>\n",
       "      <td>Mosquito Destroyer [Tx] Bug Off 6 Coils</td>\n",
       "      <td>7344661</td>\n",
       "      <td>65.00</td>\n",
       "    </tr>\n",
       "    <tr>\n",
       "      <th>101904</th>\n",
       "      <td>192</td>\n",
       "      <td>2017-03-09</td>\n",
       "      <td>Zhen's Wholesale</td>\n",
       "      <td>Cambridge</td>\n",
       "      <td>St. James</td>\n",
       "      <td>Laundry Soap Bar [Tx] Bomber 140 G</td>\n",
       "      <td>6644181</td>\n",
       "      <td>55.00</td>\n",
       "    </tr>\n",
       "    <tr>\n",
       "      <th>99306</th>\n",
       "      <td>466</td>\n",
       "      <td>2017-03-09</td>\n",
       "      <td>Cheries Supermarket</td>\n",
       "      <td>Lucea</td>\n",
       "      <td>Hanover</td>\n",
       "      <td>Corned Beef (Canned) [Tx] Eve 340 G</td>\n",
       "      <td>4446447</td>\n",
       "      <td>355.00</td>\n",
       "    </tr>\n",
       "  </tbody>\n",
       "</table>\n",
       "<p>369563 rows × 8 columns</p>\n",
       "</div>"
      ],
      "text/plain": [
       "        OutletID SurveyDate          Outlet_Name        Town         Parish  \\\n",
       "517899       154 2012-01-05           Super Plus  Four Paths      Clarendon   \n",
       "520231        89 2012-01-05                Joong    Portmore  St. Catherine   \n",
       "520232        89 2012-01-05                Joong    Portmore  St. Catherine   \n",
       "520233        89 2012-01-05                Joong    Portmore  St. Catherine   \n",
       "520234        89 2012-01-05                Joong    Portmore  St. Catherine   \n",
       "...          ...        ...                  ...         ...            ...   \n",
       "101898       192 2017-03-09     Zhen's Wholesale   Cambridge      St. James   \n",
       "101896       192 2017-03-09     Zhen's Wholesale   Cambridge      St. James   \n",
       "101895       192 2017-03-09     Zhen's Wholesale   Cambridge      St. James   \n",
       "101904       192 2017-03-09     Zhen's Wholesale   Cambridge      St. James   \n",
       "99306        466 2017-03-09  Cheries Supermarket       Lucea        Hanover   \n",
       "\n",
       "                                                     Item    ItemID   Price  \n",
       "517899         Sweetened Condensed Milk [Tx] Nestle 395 G   9149452  150.00  \n",
       "520231       Powdered  Laundry Detergent [Tx] Ariel 400 G   7843653  163.99  \n",
       "520232                    Insect Spray [Tx] Baygon 260 Ml   6443742  274.00  \n",
       "520233  Whole Chicken (Grade A, Frozen) [Nt] Best Dres...  10243821  368.00  \n",
       "520234                          Pepper [Tx] Betapac 110 G   7643928  191.00  \n",
       "...                                                   ...       ...     ...  \n",
       "101898                              Matches [Tx] Any 1 Pk   7281823   50.00  \n",
       "101896               Mosquito Destroyer [Tx] Vape 6 Coils   7381961   80.00  \n",
       "101895            Mosquito Destroyer [Tx] Bug Off 6 Coils   7344661   65.00  \n",
       "101904                 Laundry Soap Bar [Tx] Bomber 140 G   6644181   55.00  \n",
       "99306                 Corned Beef (Canned) [Tx] Eve 340 G   4446447  355.00  \n",
       "\n",
       "[369563 rows x 8 columns]"
      ]
     },
     "execution_count": 12,
     "metadata": {},
     "output_type": "execute_result"
    }
   ],
   "source": [
    "df.sort_values('SurveyDate')"
   ]
  },
  {
   "cell_type": "code",
   "execution_count": 13,
   "metadata": {},
   "outputs": [
    {
     "data": {
      "text/plain": [
       "Index(['OutletID', 'SurveyDate', 'Outlet_Name', 'Town', 'Parish', 'Item',\n",
       "       'ItemID', 'Price'],\n",
       "      dtype='object')"
      ]
     },
     "execution_count": 13,
     "metadata": {},
     "output_type": "execute_result"
    }
   ],
   "source": [
    "df.columns"
   ]
  },
  {
   "cell_type": "code",
   "execution_count": 14,
   "metadata": {},
   "outputs": [
    {
     "name": "stdout",
     "output_type": "stream",
     "text": [
      "OutletID 135\n",
      "Outlet_Name 113\n"
     ]
    }
   ],
   "source": [
    "# OutletID mapping to Outlet_Name\n",
    "for c in df.columns[[0,2]]:\n",
    "    print(c, len(df[c].unique()))"
   ]
  },
  {
   "cell_type": "code",
   "execution_count": 15,
   "metadata": {},
   "outputs": [
    {
     "name": "stdout",
     "output_type": "stream",
     "text": [
      "ItemID 231\n",
      "Item 231\n"
     ]
    }
   ],
   "source": [
    "# ItemID mapping to Item\n",
    "for c in df.columns[[6,5]]:\n",
    "    print(c, len(df[c].unique()))"
   ]
  },
  {
   "cell_type": "markdown",
   "metadata": {},
   "source": [
    "Looks like Item mapping is one-to-one, but Outlet_Name is one-to-many. This is probably due to different location so no action needed."
   ]
  },
  {
   "cell_type": "code",
   "execution_count": 16,
   "metadata": {},
   "outputs": [],
   "source": [
    "supermarkets = sorted(df.Outlet_Name.unique())"
   ]
  },
  {
   "cell_type": "code",
   "execution_count": 17,
   "metadata": {},
   "outputs": [
    {
     "data": {
      "text/plain": [
       "[\"A J's Supermarket\",\n",
       " \"Abc Supermarket - Brown's Town\",\n",
       " 'Ambersley',\n",
       " 'Any Money Supermarket',\n",
       " \"Auntie Maur's Supermarket\",\n",
       " 'Basic Needs Supermarket',\n",
       " 'Bay City Supermarket- Montego Bay',\n",
       " 'Best Buy Mini Mart',\n",
       " 'Best Value Supermarket',\n",
       " 'Best Way Wholesale',\n",
       " 'Better & Better Supermarket- Annotto Bay',\n",
       " 'Brooklyn (Clock Tower Plaza)',\n",
       " 'Brooklyn (Twin Gates Plaza)',\n",
       " \"Brown's Town Supermarket\",\n",
       " 'Bull Head Supermarket',\n",
       " \"Campbell's Supermarket\",\n",
       " 'Cari Home Supermarket',\n",
       " 'Century Supermarket',\n",
       " 'Cheries Supermarket',\n",
       " 'Cherish Supermaket',\n",
       " 'Classic Super Shop',\n",
       " \"Consumers' Meat Plus\",\n",
       " 'D & Y Supermarket',\n",
       " 'Daily Foods Supermarket',\n",
       " \"Dotty's Grocery\",\n",
       " 'Empire Supermarket (Portmore Pines)',\n",
       " 'Empire Supermarket- Cross Roads',\n",
       " 'Empire Supermarket-Liguanea',\n",
       " 'Exquisite Grocery',\n",
       " 'Family Choice',\n",
       " 'Family Pride',\n",
       " 'Fedlin Supermarket',\n",
       " \"Floyd's Supermarket\",\n",
       " 'Food Palace Wholesale',\n",
       " 'Friendship Grocery',\n",
       " \"Gayle's Grocery\",\n",
       " 'General Food Supermarket',\n",
       " \"Graham's\",\n",
       " 'Grove Court Supermarket',\n",
       " 'Heartease Wholesale & Retail',\n",
       " 'Hew Wing Supermarket',\n",
       " \"Hew's Supermarket\",\n",
       " 'Hi Lo (Portmore Pines)',\n",
       " 'Hi-Lo Basix',\n",
       " 'Hi-Lo Supermarket',\n",
       " \"Ho's Supermarket\",\n",
       " 'Hughenden Supermarket',\n",
       " 'Independence City Super Market - Portmore',\n",
       " 'Intown Supersave',\n",
       " 'Intown Supersave - Black River',\n",
       " 'J Rs Bargain World & Food Store',\n",
       " \"Jimmy's Super-Market\",\n",
       " 'Joong',\n",
       " \"Jr's\",\n",
       " \"Kamal's\",\n",
       " \"Kamlyn's\",\n",
       " \"Lee's Food Fair\",\n",
       " \"Lee's Value Plus\",\n",
       " 'Lennox Grocery',\n",
       " \"Leslie's Mini Mart\",\n",
       " 'Linstead Food Fair',\n",
       " 'Liu Rexo',\n",
       " 'Lucky Side Supermarket',\n",
       " \"Marguerite's Supermarket\",\n",
       " 'Meat Plus',\n",
       " 'Meet All Supermarket',\n",
       " 'Mega Mart',\n",
       " 'Michael Ming Supermarket',\n",
       " 'Michi Super Centre',\n",
       " 'Mid-Town Self Serve',\n",
       " 'Mitchie Super Save Grocery - Sandy Bay',\n",
       " 'Moo Penn',\n",
       " 'Naing Supermarket',\n",
       " 'New Stony Hill Supermarket',\n",
       " 'Nez Market Place',\n",
       " 'Northern Supermarket',\n",
       " 'Orion Supermarket & Wholesale',\n",
       " 'Our Corner Grocery',\n",
       " 'Pace Supermarket',\n",
       " \"Palmer's Shop\",\n",
       " 'Parkview Supermarket',\n",
       " 'Parkway Supermarket',\n",
       " \"Peat's Self Serve - Buff Bay\",\n",
       " \"Price Break Meats & Grocery - Brown's Town\",\n",
       " 'Public Supermarket',\n",
       " 'Rainbow Wholesale',\n",
       " 'Salmon Supermarket',\n",
       " \"Sampar's Cash & Carry - Old Harbour\",\n",
       " 'Save-A-Lot Mini Mart',\n",
       " 'Savemore Supercentre',\n",
       " \"Shop 'N' Save\",\n",
       " \"Shopper's Fair\",\n",
       " \"Shopper's Fair (Greater Portmore Shopping Ce\",\n",
       " \"Shopper's Fair (Portmore Mall)\",\n",
       " \"Shopper's Fair, Caledonia Road\",\n",
       " \"Shopper's Fair, Manchester Shopping Centre\",\n",
       " \"Shopper's Pride\",\n",
       " 'Shoppers Fair Supermarket',\n",
       " 'Snc Supermarket',\n",
       " 'Sovereign Supermarket',\n",
       " 'Super Plus',\n",
       " 'Super Plus (Mid Way Mall)',\n",
       " 'Super Plus (Park Crescent)',\n",
       " 'Super Valu',\n",
       " 'T & P Self Serve',\n",
       " 'Tak Supermarket',\n",
       " \"Urvill's Supermarket\",\n",
       " 'Valu Mart - May Pen',\n",
       " 'Value Master',\n",
       " 'Wat Liquor & Wholesale',\n",
       " 'Wat Liquor And Wholesale',\n",
       " 'Xxtra',\n",
       " \"Zhen's Wholesale\"]"
      ]
     },
     "execution_count": 17,
     "metadata": {},
     "output_type": "execute_result"
    }
   ],
   "source": [
    "# TBD clean-up with Sashara\n",
    "\n",
    "supermarkets"
   ]
  },
  {
   "cell_type": "code",
   "execution_count": 18,
   "metadata": {},
   "outputs": [
    {
     "data": {
      "text/plain": [
       "55"
      ]
     },
     "execution_count": 18,
     "metadata": {},
     "output_type": "execute_result"
    }
   ],
   "source": [
    "# TODO check with Sashara\n",
    "towns = sorted(df.Town.unique())\n",
    "len(towns)"
   ]
  },
  {
   "cell_type": "code",
   "execution_count": 19,
   "metadata": {},
   "outputs": [
    {
     "data": {
      "text/plain": [
       "13"
      ]
     },
     "execution_count": 19,
     "metadata": {},
     "output_type": "execute_result"
    }
   ],
   "source": [
    "# TODO Kingston is missing here...\n",
    "parishes = sorted(df.Parish.unique())\n",
    "len(parishes)"
   ]
  },
  {
   "cell_type": "code",
   "execution_count": 20,
   "metadata": {},
   "outputs": [
    {
     "data": {
      "text/html": [
       "<div>\n",
       "<style scoped>\n",
       "    .dataframe tbody tr th:only-of-type {\n",
       "        vertical-align: middle;\n",
       "    }\n",
       "\n",
       "    .dataframe tbody tr th {\n",
       "        vertical-align: top;\n",
       "    }\n",
       "\n",
       "    .dataframe thead th {\n",
       "        text-align: right;\n",
       "    }\n",
       "</style>\n",
       "<table border=\"1\" class=\"dataframe\">\n",
       "  <thead>\n",
       "    <tr style=\"text-align: right;\">\n",
       "      <th></th>\n",
       "      <th>OutletID</th>\n",
       "      <th>SurveyDate</th>\n",
       "      <th>Outlet_Name</th>\n",
       "      <th>Town</th>\n",
       "      <th>Parish</th>\n",
       "      <th>Item</th>\n",
       "      <th>ItemID</th>\n",
       "      <th>Price</th>\n",
       "    </tr>\n",
       "  </thead>\n",
       "  <tbody>\n",
       "    <tr>\n",
       "      <th>1</th>\n",
       "      <td>243</td>\n",
       "      <td>2015-07-09</td>\n",
       "      <td>Shopper's Pride</td>\n",
       "      <td>Buff Bay</td>\n",
       "      <td>Portland</td>\n",
       "      <td>Batteries [Tx] Panasonic C</td>\n",
       "      <td>11649990</td>\n",
       "      <td>260.0</td>\n",
       "    </tr>\n",
       "    <tr>\n",
       "      <th>2</th>\n",
       "      <td>243</td>\n",
       "      <td>2015-07-09</td>\n",
       "      <td>Shopper's Pride</td>\n",
       "      <td>Buff Bay</td>\n",
       "      <td>Portland</td>\n",
       "      <td>Cabbage (Green) [Nt] Local 1 Kg</td>\n",
       "      <td>3548621</td>\n",
       "      <td>170.0</td>\n",
       "    </tr>\n",
       "    <tr>\n",
       "      <th>3</th>\n",
       "      <td>243</td>\n",
       "      <td>2015-07-09</td>\n",
       "      <td>Shopper's Pride</td>\n",
       "      <td>Buff Bay</td>\n",
       "      <td>Portland</td>\n",
       "      <td>Batteries [Tx] Duracell Aa</td>\n",
       "      <td>11646291</td>\n",
       "      <td>250.0</td>\n",
       "    </tr>\n",
       "    <tr>\n",
       "      <th>5</th>\n",
       "      <td>243</td>\n",
       "      <td>2015-07-09</td>\n",
       "      <td>Shopper's Pride</td>\n",
       "      <td>Buff Bay</td>\n",
       "      <td>Portland</td>\n",
       "      <td>Water Crackers National 143 G</td>\n",
       "      <td>5049392</td>\n",
       "      <td>71.0</td>\n",
       "    </tr>\n",
       "    <tr>\n",
       "      <th>7</th>\n",
       "      <td>243</td>\n",
       "      <td>2015-07-09</td>\n",
       "      <td>Shopper's Pride</td>\n",
       "      <td>Buff Bay</td>\n",
       "      <td>Portland</td>\n",
       "      <td>Dark Sugar (Pre-Packaged) [Nt] Sunshine Crysta...</td>\n",
       "      <td>11751122</td>\n",
       "      <td>171.0</td>\n",
       "    </tr>\n",
       "  </tbody>\n",
       "</table>\n",
       "</div>"
      ],
      "text/plain": [
       "   OutletID SurveyDate      Outlet_Name      Town    Parish  \\\n",
       "1       243 2015-07-09  Shopper's Pride  Buff Bay  Portland   \n",
       "2       243 2015-07-09  Shopper's Pride  Buff Bay  Portland   \n",
       "3       243 2015-07-09  Shopper's Pride  Buff Bay  Portland   \n",
       "5       243 2015-07-09  Shopper's Pride  Buff Bay  Portland   \n",
       "7       243 2015-07-09  Shopper's Pride  Buff Bay  Portland   \n",
       "\n",
       "                                                Item    ItemID  Price  \n",
       "1                         Batteries [Tx] Panasonic C  11649990  260.0  \n",
       "2                    Cabbage (Green) [Nt] Local 1 Kg   3548621  170.0  \n",
       "3                         Batteries [Tx] Duracell Aa  11646291  250.0  \n",
       "5                      Water Crackers National 143 G   5049392   71.0  \n",
       "7  Dark Sugar (Pre-Packaged) [Nt] Sunshine Crysta...  11751122  171.0  "
      ]
     },
     "execution_count": 20,
     "metadata": {},
     "output_type": "execute_result"
    }
   ],
   "source": [
    "df.head()"
   ]
  },
  {
   "cell_type": "code",
   "execution_count": 21,
   "metadata": {
    "scrolled": true
   },
   "outputs": [
    {
     "data": {
      "text/plain": [
       "231"
      ]
     },
     "execution_count": 21,
     "metadata": {},
     "output_type": "execute_result"
    }
   ],
   "source": [
    "# TODO what nt and tx means?? strip these?\n",
    "\n",
    "items = sorted(df.Item.unique())\n",
    "len(items)"
   ]
  },
  {
   "cell_type": "code",
   "execution_count": 26,
   "metadata": {},
   "outputs": [
    {
     "data": {
      "text/plain": [
       "<Axes: xlabel='Price', ylabel='Count'>"
      ]
     },
     "execution_count": 26,
     "metadata": {},
     "output_type": "execute_result"
    },
    {
     "data": {
      "image/png": "[encoded data removed]",
      "text/plain": [
       "<Figure size 640x480 with 1 Axes>"
      ]
     },
     "metadata": {},
     "output_type": "display_data"
    }
   ],
   "source": [
    "sns.histplot(df.Price, bins=20)"
   ]
  },
  {
   "cell_type": "code",
   "execution_count": 28,
   "metadata": {},
   "outputs": [
    {
     "data": {
      "text/html": [
       "<div>\n",
       "<style scoped>\n",
       "    .dataframe tbody tr th:only-of-type {\n",
       "        vertical-align: middle;\n",
       "    }\n",
       "\n",
       "    .dataframe tbody tr th {\n",
       "        vertical-align: top;\n",
       "    }\n",
       "\n",
       "    .dataframe thead th {\n",
       "        text-align: right;\n",
       "    }\n",
       "</style>\n",
       "<table border=\"1\" class=\"dataframe\">\n",
       "  <thead>\n",
       "    <tr style=\"text-align: right;\">\n",
       "      <th></th>\n",
       "      <th>OutletID</th>\n",
       "      <th>SurveyDate</th>\n",
       "      <th>Outlet_Name</th>\n",
       "      <th>Town</th>\n",
       "      <th>Parish</th>\n",
       "      <th>Item</th>\n",
       "      <th>ItemID</th>\n",
       "      <th>Price</th>\n",
       "    </tr>\n",
       "  </thead>\n",
       "  <tbody>\n",
       "    <tr>\n",
       "      <th>543813</th>\n",
       "      <td>188</td>\n",
       "      <td>2012-02-09</td>\n",
       "      <td>Parkview Supermarket</td>\n",
       "      <td>Papine</td>\n",
       "      <td>St. Andrew</td>\n",
       "      <td>Whole Chicken (Grade A, Frozen) [Nt] Best Dres...</td>\n",
       "      <td>10243821</td>\n",
       "      <td>41.10</td>\n",
       "    </tr>\n",
       "    <tr>\n",
       "      <th>451891</th>\n",
       "      <td>568</td>\n",
       "      <td>2012-08-23</td>\n",
       "      <td>Salmon Supermarket</td>\n",
       "      <td>Falmouth</td>\n",
       "      <td>Trelawny</td>\n",
       "      <td>Whole Chicken (Grade A, Frozen) [Nt] Best Dres...</td>\n",
       "      <td>10243821</td>\n",
       "      <td>166.78</td>\n",
       "    </tr>\n",
       "    <tr>\n",
       "      <th>545458</th>\n",
       "      <td>73</td>\n",
       "      <td>2012-02-23</td>\n",
       "      <td>Hi-Lo Supermarket</td>\n",
       "      <td>Mandeville</td>\n",
       "      <td>Manchester</td>\n",
       "      <td>Whole Chicken (Grade A, Frozen) [Nt] Best Dres...</td>\n",
       "      <td>10243821</td>\n",
       "      <td>241.03</td>\n",
       "    </tr>\n",
       "    <tr>\n",
       "      <th>561437</th>\n",
       "      <td>559</td>\n",
       "      <td>2012-03-22</td>\n",
       "      <td>Mitchie Super Save Grocery - Sandy Bay</td>\n",
       "      <td>Sandy Bay</td>\n",
       "      <td>Clarendon</td>\n",
       "      <td>Whole Chicken (Grade A, Frozen) [Nt] Best Dres...</td>\n",
       "      <td>10243821</td>\n",
       "      <td>286.00</td>\n",
       "    </tr>\n",
       "    <tr>\n",
       "      <th>512936</th>\n",
       "      <td>570</td>\n",
       "      <td>2012-06-21</td>\n",
       "      <td>Price Break Meats &amp; Grocery - Brown's Town</td>\n",
       "      <td>Brown's Town</td>\n",
       "      <td>St. Ann</td>\n",
       "      <td>Whole Chicken (Grade A, Frozen) [Nt] Best Dres...</td>\n",
       "      <td>10243821</td>\n",
       "      <td>303.60</td>\n",
       "    </tr>\n",
       "    <tr>\n",
       "      <th>...</th>\n",
       "      <td>...</td>\n",
       "      <td>...</td>\n",
       "      <td>...</td>\n",
       "      <td>...</td>\n",
       "      <td>...</td>\n",
       "      <td>...</td>\n",
       "      <td>...</td>\n",
       "      <td>...</td>\n",
       "    </tr>\n",
       "    <tr>\n",
       "      <th>353141</th>\n",
       "      <td>84</td>\n",
       "      <td>2016-07-07</td>\n",
       "      <td>Intown Supersave</td>\n",
       "      <td>Junction</td>\n",
       "      <td>St. Elizabeth</td>\n",
       "      <td>Whole Chicken (Grade A, Frozen) [Nt] Best Dres...</td>\n",
       "      <td>10243821</td>\n",
       "      <td>564.52</td>\n",
       "    </tr>\n",
       "    <tr>\n",
       "      <th>347225</th>\n",
       "      <td>84</td>\n",
       "      <td>2016-06-09</td>\n",
       "      <td>Intown Supersave</td>\n",
       "      <td>Junction</td>\n",
       "      <td>St. Elizabeth</td>\n",
       "      <td>Whole Chicken (Grade A, Frozen) [Nt] Best Dres...</td>\n",
       "      <td>10243821</td>\n",
       "      <td>566.72</td>\n",
       "    </tr>\n",
       "    <tr>\n",
       "      <th>34534</th>\n",
       "      <td>180</td>\n",
       "      <td>2015-05-07</td>\n",
       "      <td>Cari Home Supermarket</td>\n",
       "      <td>Constant Spring</td>\n",
       "      <td>St. Andrew</td>\n",
       "      <td>Whole Chicken (Grade A, Frozen) [Nt] Best Dres...</td>\n",
       "      <td>10243821</td>\n",
       "      <td>573.39</td>\n",
       "    </tr>\n",
       "    <tr>\n",
       "      <th>379937</th>\n",
       "      <td>72</td>\n",
       "      <td>2014-10-09</td>\n",
       "      <td>Hi-Lo Basix</td>\n",
       "      <td>Montego Bay</td>\n",
       "      <td>St. James</td>\n",
       "      <td>Whole Chicken (Grade A, Frozen) [Nt] Best Dres...</td>\n",
       "      <td>10243821</td>\n",
       "      <td>581.40</td>\n",
       "    </tr>\n",
       "    <tr>\n",
       "      <th>262475</th>\n",
       "      <td>101</td>\n",
       "      <td>2016-11-10</td>\n",
       "      <td>Lee's Value Plus</td>\n",
       "      <td>Hopewell</td>\n",
       "      <td>Hanover</td>\n",
       "      <td>Whole Chicken (Grade A, Frozen) [Nt] Best Dres...</td>\n",
       "      <td>10243821</td>\n",
       "      <td>594.00</td>\n",
       "    </tr>\n",
       "  </tbody>\n",
       "</table>\n",
       "<p>5267 rows × 8 columns</p>\n",
       "</div>"
      ],
      "text/plain": [
       "        OutletID SurveyDate                                 Outlet_Name  \\\n",
       "543813       188 2012-02-09                        Parkview Supermarket   \n",
       "451891       568 2012-08-23                          Salmon Supermarket   \n",
       "545458        73 2012-02-23                           Hi-Lo Supermarket   \n",
       "561437       559 2012-03-22      Mitchie Super Save Grocery - Sandy Bay   \n",
       "512936       570 2012-06-21  Price Break Meats & Grocery - Brown's Town   \n",
       "...          ...        ...                                         ...   \n",
       "353141        84 2016-07-07                            Intown Supersave   \n",
       "347225        84 2016-06-09                            Intown Supersave   \n",
       "34534        180 2015-05-07                       Cari Home Supermarket   \n",
       "379937        72 2014-10-09                                 Hi-Lo Basix   \n",
       "262475       101 2016-11-10                            Lee's Value Plus   \n",
       "\n",
       "                   Town         Parish  \\\n",
       "543813           Papine     St. Andrew   \n",
       "451891         Falmouth       Trelawny   \n",
       "545458       Mandeville     Manchester   \n",
       "561437        Sandy Bay      Clarendon   \n",
       "512936     Brown's Town        St. Ann   \n",
       "...                 ...            ...   \n",
       "353141         Junction  St. Elizabeth   \n",
       "347225         Junction  St. Elizabeth   \n",
       "34534   Constant Spring     St. Andrew   \n",
       "379937      Montego Bay      St. James   \n",
       "262475         Hopewell        Hanover   \n",
       "\n",
       "                                                     Item    ItemID   Price  \n",
       "543813  Whole Chicken (Grade A, Frozen) [Nt] Best Dres...  10243821   41.10  \n",
       "451891  Whole Chicken (Grade A, Frozen) [Nt] Best Dres...  10243821  166.78  \n",
       "545458  Whole Chicken (Grade A, Frozen) [Nt] Best Dres...  10243821  241.03  \n",
       "561437  Whole Chicken (Grade A, Frozen) [Nt] Best Dres...  10243821  286.00  \n",
       "512936  Whole Chicken (Grade A, Frozen) [Nt] Best Dres...  10243821  303.60  \n",
       "...                                                   ...       ...     ...  \n",
       "353141  Whole Chicken (Grade A, Frozen) [Nt] Best Dres...  10243821  564.52  \n",
       "347225  Whole Chicken (Grade A, Frozen) [Nt] Best Dres...  10243821  566.72  \n",
       "34534   Whole Chicken (Grade A, Frozen) [Nt] Best Dres...  10243821  573.39  \n",
       "379937  Whole Chicken (Grade A, Frozen) [Nt] Best Dres...  10243821  581.40  \n",
       "262475  Whole Chicken (Grade A, Frozen) [Nt] Best Dres...  10243821  594.00  \n",
       "\n",
       "[5267 rows x 8 columns]"
      ]
     },
     "execution_count": 28,
     "metadata": {},
     "output_type": "execute_result"
    }
   ],
   "source": [
    "df[df.ItemID == 10243821].sort_values('Price')"
   ]
  },
  {
   "cell_type": "code",
   "execution_count": null,
   "metadata": {},
   "outputs": [],
   "source": [
    "# save pickle, make save point"
   ]
  },
  {
   "cell_type": "markdown",
   "metadata": {},
   "source": [
    "## Parse data dump"
   ]
  },
  {
   "cell_type": "code",
   "execution_count": 21,
   "metadata": {},
   "outputs": [],
   "source": [
    "# 2024 training data\n",
    "training = df.loc[(df.start_date > '2024-01-01') & (df.start_date_local < '2024-04-30')]"
   ]
  },
  {
   "cell_type": "code",
   "execution_count": 22,
   "metadata": {},
   "outputs": [],
   "source": [
    "# DJBB 2024\n",
    "race = df.loc[df.name.str.contains('DJBB')]"
   ]
  },
  {
   "cell_type": "code",
   "execution_count": 23,
   "metadata": {},
   "outputs": [
    {
     "data": {
      "text/html": [
       "<div>\n",
       "<style scoped>\n",
       "    .dataframe tbody tr th:only-of-type {\n",
       "        vertical-align: middle;\n",
       "    }\n",
       "\n",
       "    .dataframe tbody tr th {\n",
       "        vertical-align: top;\n",
       "    }\n",
       "\n",
       "    .dataframe thead th {\n",
       "        text-align: right;\n",
       "    }\n",
       "</style>\n",
       "<table border=\"1\" class=\"dataframe\">\n",
       "  <thead>\n",
       "    <tr style=\"text-align: right;\">\n",
       "      <th></th>\n",
       "      <th>resource_state</th>\n",
       "      <th>name</th>\n",
       "      <th>distance</th>\n",
       "      <th>moving_time</th>\n",
       "      <th>elapsed_time</th>\n",
       "      <th>total_elevation_gain</th>\n",
       "      <th>type</th>\n",
       "      <th>sport_type</th>\n",
       "      <th>workout_type</th>\n",
       "      <th>id</th>\n",
       "      <th>...</th>\n",
       "      <th>pr_count</th>\n",
       "      <th>total_photo_count</th>\n",
       "      <th>has_kudoed</th>\n",
       "      <th>suffer_score</th>\n",
       "      <th>athlete.id</th>\n",
       "      <th>athlete.resource_state</th>\n",
       "      <th>map.id</th>\n",
       "      <th>map.summary_polyline</th>\n",
       "      <th>map.resource_state</th>\n",
       "      <th>average_temp</th>\n",
       "    </tr>\n",
       "  </thead>\n",
       "  <tbody>\n",
       "    <tr>\n",
       "      <th>8</th>\n",
       "      <td>2</td>\n",
       "      <td>Morning Ride</td>\n",
       "      <td>4780.4</td>\n",
       "      <td>987</td>\n",
       "      <td>1914</td>\n",
       "      <td>61.0</td>\n",
       "      <td>Ride</td>\n",
       "      <td>Ride</td>\n",
       "      <td>NaN</td>\n",
       "      <td>11291134982</td>\n",
       "      <td>...</td>\n",
       "      <td>0</td>\n",
       "      <td>0</td>\n",
       "      <td>False</td>\n",
       "      <td>NaN</td>\n",
       "      <td>104560661</td>\n",
       "      <td>1</td>\n",
       "      <td>a11291134982</td>\n",
       "      <td>ehcmBr~ssMv@X|@b@~CbA`@TFNCHqAhC[|@uBvE]`@a@Zm...</td>\n",
       "      <td>2</td>\n",
       "      <td>32.0</td>\n",
       "    </tr>\n",
       "    <tr>\n",
       "      <th>9</th>\n",
       "      <td>2</td>\n",
       "      <td>Morning Ride</td>\n",
       "      <td>49279.1</td>\n",
       "      <td>10733</td>\n",
       "      <td>17090</td>\n",
       "      <td>800.0</td>\n",
       "      <td>Ride</td>\n",
       "      <td>Ride</td>\n",
       "      <td>10.0</td>\n",
       "      <td>11284528671</td>\n",
       "      <td>...</td>\n",
       "      <td>19</td>\n",
       "      <td>1</td>\n",
       "      <td>False</td>\n",
       "      <td>61.0</td>\n",
       "      <td>104560661</td>\n",
       "      <td>1</td>\n",
       "      <td>a11284528671</td>\n",
       "      <td>ghcmBx~ssMbIlCjFeAC\\xc@|RlEpDjO|TxBkAxFYhFqC`P...</td>\n",
       "      <td>2</td>\n",
       "      <td>26.0</td>\n",
       "    </tr>\n",
       "    <tr>\n",
       "      <th>10</th>\n",
       "      <td>2</td>\n",
       "      <td>Morning Ride</td>\n",
       "      <td>30850.8</td>\n",
       "      <td>6768</td>\n",
       "      <td>8325</td>\n",
       "      <td>694.0</td>\n",
       "      <td>Ride</td>\n",
       "      <td>Ride</td>\n",
       "      <td>10.0</td>\n",
       "      <td>11267859653</td>\n",
       "      <td>...</td>\n",
       "      <td>14</td>\n",
       "      <td>4</td>\n",
       "      <td>False</td>\n",
       "      <td>59.0</td>\n",
       "      <td>104560661</td>\n",
       "      <td>1</td>\n",
       "      <td>a11267859653</td>\n",
       "      <td>oycmBprrsM|@gAv@{C~@o@zAM|@JvGrDtBb@zO?tD~AvCV...</td>\n",
       "      <td>2</td>\n",
       "      <td>23.0</td>\n",
       "    </tr>\n",
       "    <tr>\n",
       "      <th>11</th>\n",
       "      <td>2</td>\n",
       "      <td>Lunch Swim</td>\n",
       "      <td>475.0</td>\n",
       "      <td>1807</td>\n",
       "      <td>1807</td>\n",
       "      <td>0.0</td>\n",
       "      <td>Swim</td>\n",
       "      <td>Swim</td>\n",
       "      <td>NaN</td>\n",
       "      <td>11262576995</td>\n",
       "      <td>...</td>\n",
       "      <td>0</td>\n",
       "      <td>2</td>\n",
       "      <td>False</td>\n",
       "      <td>12.0</td>\n",
       "      <td>104560661</td>\n",
       "      <td>1</td>\n",
       "      <td>a11262576995</td>\n",
       "      <td>NaN</td>\n",
       "      <td>2</td>\n",
       "      <td>NaN</td>\n",
       "    </tr>\n",
       "    <tr>\n",
       "      <th>12</th>\n",
       "      <td>2</td>\n",
       "      <td>Lunch Ride</td>\n",
       "      <td>6438.6</td>\n",
       "      <td>1353</td>\n",
       "      <td>8077</td>\n",
       "      <td>103.0</td>\n",
       "      <td>Ride</td>\n",
       "      <td>Ride</td>\n",
       "      <td>12.0</td>\n",
       "      <td>11263227838</td>\n",
       "      <td>...</td>\n",
       "      <td>0</td>\n",
       "      <td>0</td>\n",
       "      <td>False</td>\n",
       "      <td>NaN</td>\n",
       "      <td>104560661</td>\n",
       "      <td>1</td>\n",
       "      <td>a11263227838</td>\n",
       "      <td>ihcmBz~ssM~Al@hBj@bA^PJRD\\AhAc@^ILIDQB]FmABKBE...</td>\n",
       "      <td>2</td>\n",
       "      <td>38.0</td>\n",
       "    </tr>\n",
       "  </tbody>\n",
       "</table>\n",
       "<p>5 rows × 60 columns</p>\n",
       "</div>"
      ],
      "text/plain": [
       "    resource_state          name  distance  moving_time  elapsed_time  \\\n",
       "8                2  Morning Ride    4780.4          987          1914   \n",
       "9                2  Morning Ride   49279.1        10733         17090   \n",
       "10               2  Morning Ride   30850.8         6768          8325   \n",
       "11               2    Lunch Swim     475.0         1807          1807   \n",
       "12               2    Lunch Ride    6438.6         1353          8077   \n",
       "\n",
       "    total_elevation_gain  type sport_type  workout_type           id  ...  \\\n",
       "8                   61.0  Ride       Ride           NaN  11291134982  ...   \n",
       "9                  800.0  Ride       Ride          10.0  11284528671  ...   \n",
       "10                 694.0  Ride       Ride          10.0  11267859653  ...   \n",
       "11                   0.0  Swim       Swim           NaN  11262576995  ...   \n",
       "12                 103.0  Ride       Ride          12.0  11263227838  ...   \n",
       "\n",
       "   pr_count total_photo_count has_kudoed  suffer_score  athlete.id  \\\n",
       "8         0                 0      False           NaN   104560661   \n",
       "9        19                 1      False          61.0   104560661   \n",
       "10       14                 4      False          59.0   104560661   \n",
       "11        0                 2      False          12.0   104560661   \n",
       "12        0                 0      False           NaN   104560661   \n",
       "\n",
       "    athlete.resource_state        map.id  \\\n",
       "8                        1  a11291134982   \n",
       "9                        1  a11284528671   \n",
       "10                       1  a11267859653   \n",
       "11                       1  a11262576995   \n",
       "12                       1  a11263227838   \n",
       "\n",
       "                                 map.summary_polyline  map.resource_state  \\\n",
       "8   ehcmBr~ssMv@X|@b@~CbA`@TFNCHqAhC[|@uBvE]`@a@Zm...                   2   \n",
       "9   ghcmBx~ssMbIlCjFeAC\\xc@|RlEpDjO|TxBkAxFYhFqC`P...                   2   \n",
       "10  oycmBprrsM|@gAv@{C~@o@zAM|@JvGrDtBb@zO?tD~AvCV...                   2   \n",
       "11                                                NaN                   2   \n",
       "12  ihcmBz~ssM~Al@hBj@bA^PJRD\\AhAc@^ILIDQB]FmABKBE...                   2   \n",
       "\n",
       "    average_temp  \n",
       "8           32.0  \n",
       "9           26.0  \n",
       "10          23.0  \n",
       "11           NaN  \n",
       "12          38.0  \n",
       "\n",
       "[5 rows x 60 columns]"
      ]
     },
     "execution_count": 23,
     "metadata": {},
     "output_type": "execute_result"
    }
   ],
   "source": [
    "training.head()"
   ]
  },
  {
   "cell_type": "markdown",
   "metadata": {},
   "source": [
    "## Training statistics"
   ]
  },
  {
   "cell_type": "code",
   "execution_count": 24,
   "metadata": {},
   "outputs": [],
   "source": [
    "from dateutil import relativedelta\n",
    " \n",
    "def convert_seconds(n):\n",
    "    rd = relativedelta.relativedelta(seconds=n)\n",
    "    return \"{}h {:02d}m\".format(rd.days*24+rd.hours, rd.minutes)"
   ]
  },
  {
   "cell_type": "code",
   "execution_count": 25,
   "metadata": {},
   "outputs": [
    {
     "data": {
      "text/plain": [
       "'113h 11m'"
      ]
     },
     "execution_count": 25,
     "metadata": {},
     "output_type": "execute_result"
    }
   ],
   "source": [
    "# total training moving time\n",
    "convert_seconds(training.moving_time.sum())"
   ]
  },
  {
   "cell_type": "code",
   "execution_count": 26,
   "metadata": {},
   "outputs": [
    {
     "name": "stdout",
     "output_type": "stream",
     "text": [
      "Ride: 60h 35m\n",
      "Swim: 4h 13m\n",
      "Walk: 11h 26m\n",
      "Run: 4h 58m\n",
      "Workout: 8h 27m\n",
      "VirtualRide: 19h 13m\n",
      "WeightTraining: 4h 16m\n"
     ]
    }
   ],
   "source": [
    "# for each sport\n",
    "sport_types = list(training.type.unique())\n",
    "\n",
    "for s in sport_types:\n",
    "    total = training.loc[training.type == s].moving_time.sum()\n",
    "    pretty_time = convert_seconds(total)\n",
    "    print(\"{}: {}\".format(s,pretty_time))"
   ]
  },
  {
   "cell_type": "code",
   "execution_count": 28,
   "metadata": {},
   "outputs": [],
   "source": [
    "# for each sport\n",
    "sport_types = list(training.type.unique())\n",
    "totals_hr = []\n",
    "\n",
    "for s in sport_types:\n",
    "    total_s = training.loc[training.type == s].moving_time.sum()\n",
    "    totals_hr.append(total_s / 3600)\n",
    "\n",
    "totals_df = pd.DataFrame(data=totals_hr, index=sport_types, columns=['total moving time (h)'])"
   ]
  },
  {
   "cell_type": "code",
   "execution_count": 50,
   "metadata": {},
   "outputs": [
    {
     "name": "stderr",
     "output_type": "stream",
     "text": [
      "/tmp/ipykernel_110/3815723056.py:1: FutureWarning: \n",
      "\n",
      "Passing `palette` without assigning `hue` is deprecated and will be removed in v0.14.0. Assign the `x` variable to `hue` and set `legend=False` for the same effect.\n",
      "\n",
      "  ax = sns.barplot(\n"
     ]
    },
    {
     "data": {
      "text/plain": [
       "Text(0.5, 1.0, 'DJBB 2024 training')"
      ]
     },
     "execution_count": 50,
     "metadata": {},
     "output_type": "execute_result"
    },
    {
     "data": {
      "image/png": "[encoded data removed]",
      "text/plain": [
       "<Figure size 640x480 with 1 Axes>"
      ]
     },
     "metadata": {},
     "output_type": "display_data"
    }
   ],
   "source": [
    "ax = sns.barplot(\n",
    "    x=totals_df.index,\n",
    "    y=totals_df['total moving time (h)'],\n",
    "    palette=sns.color_palette(\"Set2\", 7),\n",
    ")\n",
    "ax.tick_params(axis='x', rotation=45)\n",
    "ax.set(xlabel='sport')\n",
    "ax.set_title(\"DJBB 2024 training\")"
   ]
  },
  {
   "cell_type": "code",
   "execution_count": 189,
   "metadata": {},
   "outputs": [
    {
     "name": "stdout",
     "output_type": "stream",
     "text": [
      "Active riding weeks: 8\n",
      "Average rides per week: 4.0\n",
      "Average km per week: 166.1\n",
      "Total km: 1328.9\n",
      "Total elevation gain (m): 12106\n",
      "\n"
     ]
    }
   ],
   "source": [
    "# riding hours and kilometers\n",
    "ride_df =  training.loc[training.type == 'Ride']\n",
    "\n",
    "total_km = ride_df.distance.sum() / 1000\n",
    "active_wks = (17-8-2+1)\n",
    "km_per_wk = total_km / active_wks\n",
    "\n",
    "total_elevation_gain = ride_df.total_elevation_gain.sum()\n",
    "\n",
    "print(\"Active riding weeks:\", active_wks)\n",
    "print(\"Average rides per week: {:.1f}\".format(ride_df.shape[0]/active_wks))\n",
    "print(\"Average km per week: {:.1f}\".format(km_per_wk))\n",
    "print(\"Total km: {:.1f}\".format(total_km))\n",
    "print(\"Total elevation gain (m): {:.0f}\\n\".format(total_elevation_gain))"
   ]
  },
  {
   "cell_type": "code",
   "execution_count": 182,
   "metadata": {},
   "outputs": [
    {
     "data": {
      "text/plain": [
       "count    32.000000\n",
       "mean     26.687500\n",
       "std       5.396758\n",
       "min      19.000000\n",
       "25%      23.000000\n",
       "50%      25.500000\n",
       "75%      30.250000\n",
       "max      39.000000\n",
       "Name: average_temp, dtype: float64"
      ]
     },
     "execution_count": 182,
     "metadata": {},
     "output_type": "execute_result"
    }
   ],
   "source": [
    "# temperatures\n",
    "ride_df.average_temp.describe()"
   ]
  },
  {
   "cell_type": "markdown",
   "metadata": {},
   "source": [
    "## DJBB2024 statistics"
   ]
  },
  {
   "cell_type": "code",
   "execution_count": 159,
   "metadata": {},
   "outputs": [
    {
     "data": {
      "text/plain": [
       "'26h 10m'"
      ]
     },
     "execution_count": 159,
     "metadata": {},
     "output_type": "execute_result"
    }
   ],
   "source": [
    "# total moving time\n",
    "convert_seconds(race.moving_time.sum())"
   ]
  },
  {
   "cell_type": "code",
   "execution_count": 160,
   "metadata": {},
   "outputs": [
    {
     "name": "stdout",
     "output_type": "stream",
     "text": [
      "Total distance: 627.4 (392.1miles)\n"
     ]
    }
   ],
   "source": [
    "total_dist_km = race.distance.sum()/1000\n",
    "print(\"Total distance: {:.1f} ({:.1f}miles)\".format(total_dist_km, total_dist_km/1.6))"
   ]
  },
  {
   "cell_type": "code",
   "execution_count": 161,
   "metadata": {},
   "outputs": [
    {
     "name": "stdout",
     "output_type": "stream",
     "text": [
      "Average speed: 24.0km (15.0mph)\n"
     ]
    }
   ],
   "source": [
    "avg_spd_km = total_dist_km / (race.moving_time.sum()/3600)\n",
    "print(\"Average speed: {:.1f}km ({:.1f}mph)\".format(avg_spd_km, avg_spd_km/1.6))"
   ]
  },
  {
   "cell_type": "code",
   "execution_count": 196,
   "metadata": {},
   "outputs": [
    {
     "name": "stdout",
     "output_type": "stream",
     "text": [
      "Total elevation gain: 5983.0m (19629.3feet)\n"
     ]
    }
   ],
   "source": [
    "total_elevation_gain_m = race.total_elevation_gain.sum()\n",
    "print(\"Total elevation gain: {:.1f}m ({:.1f}feet)\".format(\n",
    "    total_elevation_gain_m,\n",
    "    total_elevation_gain_m/.3048))"
   ]
  },
  {
   "cell_type": "code",
   "execution_count": 183,
   "metadata": {},
   "outputs": [
    {
     "data": {
      "text/plain": [
       "count     5.00000\n",
       "mean     30.60000\n",
       "std       1.67332\n",
       "min      28.00000\n",
       "25%      30.00000\n",
       "50%      31.00000\n",
       "75%      32.00000\n",
       "max      32.00000\n",
       "Name: average_temp, dtype: float64"
      ]
     },
     "execution_count": 183,
     "metadata": {},
     "output_type": "execute_result"
    }
   ],
   "source": [
    "# temperatures\n",
    "race.average_temp.describe()"
   ]
  }
 ],
 "metadata": {
  "kernelspec": {
   "display_name": "Python [conda env:jamrock]",
   "language": "python",
   "name": "conda-env-jamrock-py"
  },
  "language_info": {
   "codemirror_mode": {
    "name": "ipython",
    "version": 3
   },
   "file_extension": ".py",
   "mimetype": "text/x-python",
   "name": "python",
   "nbconvert_exporter": "python",
   "pygments_lexer": "ipython3",
   "version": "3.12.8"
  }
 },
 "nbformat": 4,
 "nbformat_minor": 4
}
